{
 "cells": [
  {
   "cell_type": "markdown",
   "metadata": {},
   "source": [
    "# Fast-Classifying, High-Accuracy Spiking Deep Networks"
   ]
  },
  {
   "cell_type": "code",
   "execution_count": 1,
   "metadata": {},
   "outputs": [
    {
     "name": "stdout",
     "output_type": "stream",
     "text": [
      "cpu\n"
     ]
    }
   ],
   "source": [
    "import torch\n",
    "from torchvision.transforms import ToTensor, Compose, Normalize\n",
    "from torchvision.datasets import MNIST\n",
    "\n",
    "device = torch.device(\"cuda\" if torch.cuda.is_available() else \"cpu\")\n",
    "print(device)"
   ]
  },
  {
   "cell_type": "code",
   "execution_count": 2,
   "metadata": {},
   "outputs": [],
   "source": [
    "# data alread 0-1 normalised, simply convert to tensor\n",
    "transform_data = ToTensor()\n",
    "\n",
    "# Load the data\n",
    "batch_size = 100\n",
    "train_dataset = MNIST(root = './mnist/', train = True, download = True, transform=transform_data)\n",
    "test_dataset = MNIST(root = './mnist/', train = False, download = True, transform=transform_data)\n",
    "train_loader = torch.utils.data.DataLoader(train_dataset, batch_size = batch_size, shuffle = True)\n",
    "test_loader = torch.utils.data.DataLoader(test_dataset, batch_size = batch_size, shuffle = False)"
   ]
  },
  {
   "cell_type": "code",
   "execution_count": 3,
   "metadata": {},
   "outputs": [],
   "source": [
    "# fully connected neural network\n",
    "class FC_Net(torch.nn.Module):\n",
    "    def __init__(self, n_x: int, n_h: list, n_y: int):\n",
    "        super().__init__()\n",
    "\n",
    "        self.in_layer = torch.nn.Linear(n_x, n_h[0], bias=False)\n",
    "        self.h1_layer = torch.nn.Linear(n_h[0], n_h[1], bias=False)\n",
    "        self.h2_layer = torch.nn.Linear(n_h[1], n_y, bias=False)\n",
    "        self.dropout = torch.nn.Dropout()\n",
    "        self.activator = torch.nn.ReLU()\n",
    "\n",
    "    def forward(self, x):\n",
    "        # Flatten images\n",
    "        x = x.view(x.size(0), -1)\n",
    "        \n",
    "        inp = self.dropout(self.activator(self.in_layer(x)))\n",
    "        h1 = self.dropout(self.activator(self.h1_layer(inp)))\n",
    "        y = self.activator(self.h2_layer(h1))\n",
    "\n",
    "        return y\n",
    "    \n",
    "    def save_parameters(self, path: str):\n",
    "        torch.save(self.in_layer, path + \"0.pt\")\n",
    "        torch.save(self.h1_layer, path + \"1.pt\")\n",
    "        torch.save(self.h2_layer, path + \"2.pt\")"
   ]
  },
  {
   "cell_type": "code",
   "execution_count": 4,
   "metadata": {},
   "outputs": [
    {
     "data": {
      "text/plain": [
       "FC_Net(\n",
       "  (in_layer): Linear(in_features=784, out_features=1200, bias=False)\n",
       "  (h1_layer): Linear(in_features=1200, out_features=1200, bias=False)\n",
       "  (h2_layer): Linear(in_features=1200, out_features=10, bias=False)\n",
       "  (dropout): Dropout(p=0.5, inplace=False)\n",
       "  (activator): ReLU()\n",
       ")"
      ]
     },
     "execution_count": 4,
     "metadata": {},
     "output_type": "execute_result"
    }
   ],
   "source": [
    "def init_weights(m):\n",
    "    if isinstance(m, torch.nn.Linear):\n",
    "        torch.nn.init.uniform_(m.weight, -0.1, 0.1)\n",
    "\n",
    "fc_net = FC_Net(784, [1200, 1200], 10).to(device)\n",
    "fc_net.apply(init_weights)\n",
    "optimiser = torch.optim.Adam(fc_net.parameters())\n",
    "\n",
    "# optimiser used in the original paper seems to kill the gradients, so we're just going to use adam\n",
    "# optimiser = torch.optim.SGD(fc_net.parameters(), lr=.01, momentum=0.5)\n",
    "\n",
    "fc_net.train()"
   ]
  },
  {
   "cell_type": "code",
   "execution_count": 5,
   "metadata": {},
   "outputs": [
    {
     "name": "stdout",
     "output_type": "stream",
     "text": [
      "Epoch [1/15], Step [100/600], Loss: 0.6633\n",
      "Epoch [1/15], Step [200/600], Loss: 0.5264\n",
      "Epoch [1/15], Step [300/600], Loss: 0.4307\n",
      "Epoch [1/15], Step [400/600], Loss: 0.3239\n",
      "Epoch [1/15], Step [500/600], Loss: 0.3713\n",
      "Epoch [1/15], Step [600/600], Loss: 0.1365\n",
      "Epoch [2/15], Step [100/600], Loss: 0.2165\n",
      "Epoch [2/15], Step [200/600], Loss: 0.1633\n",
      "Epoch [2/15], Step [300/600], Loss: 0.0998\n",
      "Epoch [2/15], Step [400/600], Loss: 0.1761\n",
      "Epoch [2/15], Step [500/600], Loss: 0.1617\n",
      "Epoch [2/15], Step [600/600], Loss: 0.0589\n",
      "Epoch [3/15], Step [100/600], Loss: 0.1698\n",
      "Epoch [3/15], Step [200/600], Loss: 0.0258\n",
      "Epoch [3/15], Step [300/600], Loss: 0.1525\n",
      "Epoch [3/15], Step [400/600], Loss: 0.0464\n",
      "Epoch [3/15], Step [500/600], Loss: 0.1399\n",
      "Epoch [3/15], Step [600/600], Loss: 0.1295\n",
      "Epoch [4/15], Step [100/600], Loss: 0.0571\n",
      "Epoch [4/15], Step [200/600], Loss: 0.0932\n",
      "Epoch [4/15], Step [300/600], Loss: 0.1227\n",
      "Epoch [4/15], Step [400/600], Loss: 0.0579\n",
      "Epoch [4/15], Step [500/600], Loss: 0.1779\n",
      "Epoch [4/15], Step [600/600], Loss: 0.0828\n",
      "Epoch [5/15], Step [100/600], Loss: 0.0757\n",
      "Epoch [5/15], Step [200/600], Loss: 0.1531\n",
      "Epoch [5/15], Step [300/600], Loss: 0.0288\n",
      "Epoch [5/15], Step [400/600], Loss: 0.0160\n",
      "Epoch [5/15], Step [500/600], Loss: 0.0689\n",
      "Epoch [5/15], Step [600/600], Loss: 0.1043\n",
      "Epoch [6/15], Step [100/600], Loss: 0.1240\n",
      "Epoch [6/15], Step [200/600], Loss: 0.0477\n",
      "Epoch [6/15], Step [300/600], Loss: 0.0810\n",
      "Epoch [6/15], Step [400/600], Loss: 0.0443\n",
      "Epoch [6/15], Step [500/600], Loss: 0.0522\n",
      "Epoch [6/15], Step [600/600], Loss: 0.0893\n",
      "Epoch [7/15], Step [100/600], Loss: 0.1459\n",
      "Epoch [7/15], Step [200/600], Loss: 0.0661\n",
      "Epoch [7/15], Step [300/600], Loss: 0.0581\n",
      "Epoch [7/15], Step [400/600], Loss: 0.0028\n",
      "Epoch [7/15], Step [500/600], Loss: 0.0715\n",
      "Epoch [7/15], Step [600/600], Loss: 0.1399\n",
      "Epoch [8/15], Step [100/600], Loss: 0.1112\n",
      "Epoch [8/15], Step [200/600], Loss: 0.0152\n",
      "Epoch [8/15], Step [300/600], Loss: 0.0600\n",
      "Epoch [8/15], Step [400/600], Loss: 0.0332\n",
      "Epoch [8/15], Step [500/600], Loss: 0.2178\n",
      "Epoch [8/15], Step [600/600], Loss: 0.0537\n",
      "Epoch [9/15], Step [100/600], Loss: 0.0228\n",
      "Epoch [9/15], Step [200/600], Loss: 0.0645\n",
      "Epoch [9/15], Step [300/600], Loss: 0.0738\n",
      "Epoch [9/15], Step [400/600], Loss: 0.0128\n",
      "Epoch [9/15], Step [500/600], Loss: 0.0076\n",
      "Epoch [9/15], Step [600/600], Loss: 0.1750\n",
      "Epoch [10/15], Step [100/600], Loss: 0.0295\n",
      "Epoch [10/15], Step [200/600], Loss: 0.1304\n",
      "Epoch [10/15], Step [300/600], Loss: 0.0595\n",
      "Epoch [10/15], Step [400/600], Loss: 0.0170\n",
      "Epoch [10/15], Step [500/600], Loss: 0.0212\n",
      "Epoch [10/15], Step [600/600], Loss: 0.0379\n",
      "Epoch [11/15], Step [100/600], Loss: 0.1171\n",
      "Epoch [11/15], Step [200/600], Loss: 0.0528\n",
      "Epoch [11/15], Step [300/600], Loss: 0.0893\n",
      "Epoch [11/15], Step [400/600], Loss: 0.0722\n",
      "Epoch [11/15], Step [500/600], Loss: 0.2200\n",
      "Epoch [11/15], Step [600/600], Loss: 0.0314\n",
      "Epoch [12/15], Step [100/600], Loss: 0.0232\n",
      "Epoch [12/15], Step [200/600], Loss: 0.0039\n",
      "Epoch [12/15], Step [300/600], Loss: 0.1017\n",
      "Epoch [12/15], Step [400/600], Loss: 0.1311\n",
      "Epoch [12/15], Step [500/600], Loss: 0.0688\n",
      "Epoch [12/15], Step [600/600], Loss: 0.0488\n",
      "Epoch [13/15], Step [100/600], Loss: 0.0157\n",
      "Epoch [13/15], Step [200/600], Loss: 0.1629\n",
      "Epoch [13/15], Step [300/600], Loss: 0.1446\n",
      "Epoch [13/15], Step [400/600], Loss: 0.0468\n",
      "Epoch [13/15], Step [500/600], Loss: 0.0146\n",
      "Epoch [13/15], Step [600/600], Loss: 0.0629\n",
      "Epoch [14/15], Step [100/600], Loss: 0.0449\n",
      "Epoch [14/15], Step [200/600], Loss: 0.1751\n",
      "Epoch [14/15], Step [300/600], Loss: 0.0795\n",
      "Epoch [14/15], Step [400/600], Loss: 0.0101\n",
      "Epoch [14/15], Step [500/600], Loss: 0.0697\n",
      "Epoch [14/15], Step [600/600], Loss: 0.1403\n",
      "Epoch [15/15], Step [100/600], Loss: 0.0202\n",
      "Epoch [15/15], Step [200/600], Loss: 0.0106\n",
      "Epoch [15/15], Step [300/600], Loss: 0.0130\n",
      "Epoch [15/15], Step [400/600], Loss: 0.0727\n",
      "Epoch [15/15], Step [500/600], Loss: 0.0667\n",
      "Epoch [15/15], Step [600/600], Loss: 0.0445\n"
     ]
    }
   ],
   "source": [
    "# Training model\n",
    "num_epochs = 15\n",
    "for epoch in range(num_epochs):\n",
    "    # Go trough all samples in train dataset\n",
    "    for i, (images, labels) in enumerate(train_loader):\n",
    "        # Get from dataloader and send to device\n",
    "        images = images.to(device)\n",
    "        labels = labels.to(device)\n",
    "        # Forward pass\n",
    "        outputs = fc_net(images)\n",
    "        # Compute loss\n",
    "        loss = torch.nn.functional.cross_entropy(outputs, labels)\n",
    "        # Backward and optimize\n",
    "        optimiser.zero_grad()\n",
    "        loss.backward()\n",
    "        optimiser.step()\n",
    "        # Display\n",
    "        if (i+1) % 100 == 0:\n",
    "            print (f'Epoch [{epoch+1}/{num_epochs}], Step [{i+1}/{len(train_loader)}], Loss: {loss.item():.4f}')"
   ]
  },
  {
   "cell_type": "code",
   "execution_count": 8,
   "metadata": {},
   "outputs": [
    {
     "name": "stdout",
     "output_type": "stream",
     "text": [
      "Evaluation after training, test accuracy: 0.9799\n"
     ]
    }
   ],
   "source": [
    "# Evaluate model accuracy on test after training\n",
    "# Set model in eval mode!\n",
    "fc_net.eval()\n",
    "# Evaluate\n",
    "with torch.no_grad():\n",
    "    correct = 0\n",
    "    total = 0\n",
    "    for images, labels in test_loader:\n",
    "        # Get images and labels from test loader\n",
    "        images = images.to(device)\n",
    "        labels = labels.to(device)\n",
    "        # Forward pass and predict class using max\n",
    "        outputs = fc_net(images)\n",
    "        _, predicted = torch.max(outputs.data, 1)\n",
    "        # Check if predicted class matches label\n",
    "        # and count numbler of correct predictions\n",
    "        total += labels.size(0)\n",
    "        correct += (predicted == labels).sum().item()\n",
    "# Compute final accuracy and display\n",
    "accuracy = correct/total\n",
    "print(f'Evaluation after training, test accuracy: {accuracy:.4f}')"
   ]
  },
  {
   "cell_type": "code",
   "execution_count": 9,
   "metadata": {},
   "outputs": [],
   "source": [
    "fc_net.save_parameters(\"linear\")"
   ]
  }
 ],
 "metadata": {
  "kernelspec": {
   "display_name": "bic_team",
   "language": "python",
   "name": "python3"
  },
  "language_info": {
   "codemirror_mode": {
    "name": "ipython",
    "version": 3
   },
   "file_extension": ".py",
   "mimetype": "text/x-python",
   "name": "python",
   "nbconvert_exporter": "python",
   "pygments_lexer": "ipython3",
   "version": "3.13.1"
  }
 },
 "nbformat": 4,
 "nbformat_minor": 2
}
