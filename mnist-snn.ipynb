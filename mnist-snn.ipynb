{
 "cells": [
  {
   "cell_type": "markdown",
   "metadata": {},
   "source": [
    "# SNN Weight & Threshold Balancing - Fully Connected\n",
    "\n",
    "The code for training, transferring, and normalising the weights of a fully connected ReLU network to a spiking neural network."
   ]
  },
  {
   "cell_type": "code",
   "execution_count": 12,
   "metadata": {},
   "outputs": [
    {
     "name": "stdout",
     "output_type": "stream",
     "text": [
      "cpu\n"
     ]
    }
   ],
   "source": [
    "# relevant imports\n",
    "\n",
    "import torch\n",
    "from torchvision.transforms import ToTensor\n",
    "from torchvision.datasets import MNIST\n",
    "\n",
    "import snntorch as snn\n",
    "import snntorch.functional as SF\n",
    "\n",
    "from spike_nets import FC_Net, FC_SNN, FC_Count_Net\n",
    "from norms import model_norm, data_norm\n",
    "\n",
    "device = torch.device(\"cuda\" if torch.cuda.is_available() else \"cpu\")\n",
    "print(device)"
   ]
  },
  {
   "cell_type": "code",
   "execution_count": 5,
   "metadata": {},
   "outputs": [
    {
     "name": "stdout",
     "output_type": "stream",
     "text": [
      "60000 10000\n"
     ]
    }
   ],
   "source": [
    "# data alread 0-1 normalised, simply convert to tensor\n",
    "transform_data = ToTensor()\n",
    "\n",
    "# load the MNIST dataset\n",
    "batch_size = 100\n",
    "train_dataset = MNIST(root = './mnist/', train = True, download = True, transform=transform_data)\n",
    "test_dataset = MNIST(root = './mnist/', train = False, download = True, transform=transform_data)\n",
    "train_loader = torch.utils.data.DataLoader(train_dataset, batch_size = batch_size, shuffle = True)\n",
    "test_loader = torch.utils.data.DataLoader(test_dataset, batch_size = batch_size, shuffle = False)\n",
    "print(len(train_dataset), len(test_dataset))"
   ]
  },
  {
   "cell_type": "markdown",
   "metadata": {},
   "source": [
    "## FC ReLU Neural Network\n",
    "\n",
    "This is the code to train the basic FC ReLU network. Weights can be saved to `params/`. For first time transfer of weights to a spiking network, this must be run."
   ]
  },
  {
   "cell_type": "code",
   "execution_count": 3,
   "metadata": {},
   "outputs": [
    {
     "data": {
      "text/plain": [
       "FC_Net(\n",
       "  (in_layer): Linear(in_features=784, out_features=1200, bias=False)\n",
       "  (h1_layer): Linear(in_features=1200, out_features=1200, bias=False)\n",
       "  (h2_layer): Linear(in_features=1200, out_features=10, bias=False)\n",
       "  (dropout): Dropout(p=0.5, inplace=False)\n",
       "  (activator): ReLU()\n",
       ")"
      ]
     },
     "execution_count": 3,
     "metadata": {},
     "output_type": "execute_result"
    }
   ],
   "source": [
    "# the original paper used a uniform [-0.1, 0.1] initialiser, so we will too\n",
    "def init_weights(m):\n",
    "    if isinstance(m, torch.nn.Linear):\n",
    "        torch.nn.init.uniform_(m.weight, -0.1, 0.1)\n",
    "\n",
    "fc_net = FC_Net(784, [1200, 1200], 10).to(device)\n",
    "fc_net.apply(init_weights)\n",
    "optimiser = torch.optim.Adam(fc_net.parameters())\n",
    "\n",
    "# optimiser used in the original paper seems to kill the gradients, so we're just going to use adam\n",
    "# optimiser = torch.optim.SGD(fc_net.parameters(), lr=.01, momentum=0.5)\n",
    "\n",
    "fc_net.train()"
   ]
  },
  {
   "cell_type": "code",
   "execution_count": null,
   "metadata": {},
   "outputs": [],
   "source": [
    "# training the model\n",
    "num_epochs = 15\n",
    "for epoch in range(num_epochs):\n",
    "\n",
    "    for i, (images, labels) in enumerate(train_loader):\n",
    "        # get data from dataloader and send to device\n",
    "        images = images.to(device)\n",
    "        labels = labels.to(device)\n",
    "\n",
    "        # forward pass\n",
    "        outputs = fc_net(images)\n",
    "        loss = torch.nn.functional.cross_entropy(outputs, labels)\n",
    "\n",
    "        # backward pass and optimize\n",
    "        optimiser.zero_grad()\n",
    "        loss.backward()\n",
    "        optimiser.step()\n",
    "\n",
    "        if (i+1) % 100 == 0:\n",
    "            print (f'Epoch [{epoch+1}/{num_epochs}], Step [{i+1}/{len(train_loader)}], Loss: {loss.item():.4f}')"
   ]
  },
  {
   "cell_type": "code",
   "execution_count": 5,
   "metadata": {},
   "outputs": [
    {
     "name": "stdout",
     "output_type": "stream",
     "text": [
      "Evaluation after training, test accuracy: 0.9825\n"
     ]
    }
   ],
   "source": [
    "# model evaluation on test set\n",
    "fc_net.eval()\n",
    "\n",
    "with torch.no_grad():\n",
    "    correct = 0\n",
    "    total = 0\n",
    "    for images, labels in test_loader:\n",
    "\n",
    "        images = images.to(device)\n",
    "        labels = labels.to(device)\n",
    "\n",
    "        # forward pass and predict using max()\n",
    "        outputs = fc_net(images)\n",
    "        _, predicted = torch.max(outputs.data, 1)\n",
    "        \n",
    "        # check prediction against ground truth\n",
    "        total += labels.size(0)\n",
    "        correct += (predicted == labels).sum().item()\n",
    "\n",
    "# compute final accuracy\n",
    "accuracy = correct/total\n",
    "print(f'Evaluation after training, test accuracy: {accuracy:.4f}')"
   ]
  },
  {
   "cell_type": "code",
   "execution_count": 10,
   "metadata": {},
   "outputs": [],
   "source": [
    "fc_net.save_parameters(\"params/linear\")"
   ]
  },
  {
   "cell_type": "markdown",
   "metadata": {},
   "source": [
    "## FC Spiking Neural Network\n",
    "\n",
    "Code to load weights from an FC network to a spiking neural network. Parameters loaded from `params/`. Run above cells to generate weights by training the ordinary FC network."
   ]
  },
  {
   "cell_type": "code",
   "execution_count": 15,
   "metadata": {},
   "outputs": [
    {
     "data": {
      "text/plain": [
       "FC_SNN(\n",
       "  (in_layer): Linear(in_features=784, out_features=1200, bias=False)\n",
       "  (h1_layer): Linear(in_features=1200, out_features=1200, bias=False)\n",
       "  (h2_layer): Linear(in_features=1200, out_features=10, bias=False)\n",
       "  (in_active): Leaky()\n",
       "  (h1_active): Leaky()\n",
       "  (h2_active): Leaky()\n",
       ")"
      ]
     },
     "execution_count": 15,
     "metadata": {},
     "output_type": "execute_result"
    }
   ],
   "source": [
    "# load spiking neural network with parameters from ReLU network\n",
    "threshold = 3\n",
    "rate = 45\n",
    "fc_snn = FC_SNN(784, [1200, 1200], 10, beta=1, threshold=threshold, steps=int(rate / 2), rate=45).to(device)\n",
    "fc_snn.load_parameters(\"params/linear\")\n",
    "fc_snn.eval()"
   ]
  },
  {
   "cell_type": "code",
   "execution_count": 16,
   "metadata": {},
   "outputs": [
    {
     "name": "stdout",
     "output_type": "stream",
     "text": [
      "Evaluation after training, test accuracy: 0.9806\n"
     ]
    }
   ],
   "source": [
    "# evaluate model with minimal tweaking\n",
    "with torch.no_grad():\n",
    "    total = 0\n",
    "    correct = 0\n",
    "    for images, labels in test_loader:\n",
    "        images = images.to(device)\n",
    "        labels = labels.to(device)\n",
    "        spk_out, _ = fc_snn(images)\n",
    "\n",
    "        correct += SF.accuracy_rate(spk_out, labels) * spk_out.size(1)\n",
    "        total += spk_out.size(1)\n",
    "\n",
    "accuracy = correct/total\n",
    "print(f'Evaluation after training, test accuracy: {accuracy:.4f}')"
   ]
  },
  {
   "cell_type": "markdown",
   "metadata": {},
   "source": [
    "## FC Neural Network Model Normalisation\n",
    "\n",
    "Code to run and test model normalisation for a fully connected SNN."
   ]
  },
  {
   "cell_type": "code",
   "execution_count": 4,
   "metadata": {},
   "outputs": [
    {
     "name": "stdout",
     "output_type": "stream",
     "text": [
      "[32.103599548339844, 52.59414291381836]\n"
     ]
    }
   ],
   "source": [
    "# to load parameters and normalise from scratch\n",
    "fc_mn_snn = FC_SNN(784, [1200, 1200], 10, beta=1).to(device)\n",
    "fc_mn_snn.load_parameters(\"params/linear\")\n",
    "fc_mn_snn.eval()\n",
    "\n",
    "scaling_factors = model_norm(fc_mn_snn, False)\n",
    "print(scaling_factors)\n",
    "fc_mn_snn.save_parameters(\"params/model_norm\")"
   ]
  },
  {
   "cell_type": "code",
   "execution_count": 26,
   "metadata": {},
   "outputs": [
    {
     "data": {
      "text/plain": [
       "FC_SNN(\n",
       "  (in_layer): Linear(in_features=784, out_features=1200, bias=False)\n",
       "  (h1_layer): Linear(in_features=1200, out_features=1200, bias=False)\n",
       "  (h2_layer): Linear(in_features=1200, out_features=10, bias=False)\n",
       "  (in_active): Leaky()\n",
       "  (h1_active): Leaky()\n",
       "  (h2_active): Leaky()\n",
       ")"
      ]
     },
     "execution_count": 26,
     "metadata": {},
     "output_type": "execute_result"
    }
   ],
   "source": [
    "# to load normalised weights from file\n",
    "max_rate = 200\n",
    "threshold = 0.25\n",
    "simulation_time = 0.5\n",
    "\n",
    "fc_mn_snn = FC_SNN(784, [1200, 1200], 10, beta=1, threshold=threshold, steps=int(max_rate * simulation_time), rate=max_rate).to(device)\n",
    "fc_mn_snn.load_parameters(\"params/model_norm\")\n",
    "fc_mn_snn.eval()"
   ]
  },
  {
   "cell_type": "code",
   "execution_count": 27,
   "metadata": {},
   "outputs": [
    {
     "name": "stdout",
     "output_type": "stream",
     "text": [
      "Evaluation after training, test accuracy: 0.9776\n"
     ]
    }
   ],
   "source": [
    "# evaluate model normalised model\n",
    "with torch.no_grad():\n",
    "    total = 0\n",
    "    correct = 0\n",
    "    for images, labels in test_loader:\n",
    "        images = images.to(device)\n",
    "        labels = labels.to(device)\n",
    "        spk_out, _ = fc_mn_snn(images)\n",
    "\n",
    "        correct += SF.accuracy_rate(spk_out, labels) * spk_out.size(1)\n",
    "        total += spk_out.size(1)\n",
    "\n",
    "accuracy = correct/total\n",
    "print(f'Evaluation after training, test accuracy: {accuracy:.4f}')"
   ]
  },
  {
   "cell_type": "markdown",
   "metadata": {},
   "source": [
    "## FC Neural Network Data Normalisation\n",
    "\n",
    "Code to run and test data normalisation on an FC SNN."
   ]
  },
  {
   "cell_type": "code",
   "execution_count": 5,
   "metadata": {},
   "outputs": [],
   "source": [
    "# get maximum neuron activations\n",
    "count_loader = torch.utils.data.DataLoader(train_dataset, batch_size = 1, shuffle = False)\n",
    "fc_count_net = FC_Count_Net(784, [1200, 1200], 10).to(device) # initialise special counting activation counting network\n",
    "fc_count_net.load_parameters(\"params/linear\")\n",
    "fc_count_net.eval()\n",
    "\n",
    "with torch.no_grad():\n",
    "\n",
    "    for images, labels in count_loader:\n",
    "\n",
    "        images = images.to(device)\n",
    "        labels = labels.to(device)\n",
    "\n",
    "        _ = fc_count_net(images)\n",
    "\n",
    "max_activations = [torch.max(fc_count_net.maxin_act), torch.max(fc_count_net.maxh1_act), torch.max(fc_count_net.maxh2_act)]"
   ]
  },
  {
   "cell_type": "code",
   "execution_count": 10,
   "metadata": {},
   "outputs": [
    {
     "name": "stdout",
     "output_type": "stream",
     "text": [
      "[tensor(8.4872), tensor(2.1156), tensor(4.4810)]\n"
     ]
    }
   ],
   "source": [
    "# to load and rescale from scratch\n",
    "fc_dn_snn = FC_SNN(784, [1200, 1200], 10, beta=1).to(device)\n",
    "fc_dn_snn.load_parameters(\"params/linear\")\n",
    "fc_dn_snn.eval()\n",
    "\n",
    "scaling_factors = data_norm(fc_dn_snn, max_activations)\n",
    "print(scaling_factors)\n",
    "fc_dn_snn.save_parameters(\"params/data_norm\")"
   ]
  },
  {
   "cell_type": "code",
   "execution_count": 28,
   "metadata": {},
   "outputs": [
    {
     "data": {
      "text/plain": [
       "FC_SNN(\n",
       "  (in_layer): Linear(in_features=784, out_features=1200, bias=False)\n",
       "  (h1_layer): Linear(in_features=1200, out_features=1200, bias=False)\n",
       "  (h2_layer): Linear(in_features=1200, out_features=10, bias=False)\n",
       "  (in_active): Leaky()\n",
       "  (h1_active): Leaky()\n",
       "  (h2_active): Leaky()\n",
       ")"
      ]
     },
     "execution_count": 28,
     "metadata": {},
     "output_type": "execute_result"
    }
   ],
   "source": [
    "# to load rescaled weights from file\n",
    "max_rate = 80\n",
    "threshold = 0.7\n",
    "simulation_time = 0.5\n",
    "\n",
    "fc_dn_snn = FC_SNN(784, [1200, 1200], 10, beta=1, threshold=threshold, steps=int(max_rate * simulation_time), rate=max_rate).to(device)\n",
    "fc_dn_snn.load_parameters(\"params/data_norm\")\n",
    "fc_dn_snn.eval()"
   ]
  },
  {
   "cell_type": "code",
   "execution_count": 29,
   "metadata": {},
   "outputs": [
    {
     "name": "stdout",
     "output_type": "stream",
     "text": [
      "Evaluation after training, test accuracy: 0.9808\n"
     ]
    }
   ],
   "source": [
    "# evaluate data normalised model\n",
    "with torch.no_grad():\n",
    "    total = 0\n",
    "    correct = 0\n",
    "    for images, labels in test_loader:\n",
    "        images = images.to(device)\n",
    "        labels = labels.to(device)\n",
    "        spk_out, _ = fc_dn_snn(images)\n",
    "\n",
    "        correct += SF.accuracy_rate(spk_out, labels) * spk_out.size(1)\n",
    "        total += spk_out.size(1)\n",
    "\n",
    "accuracy = correct/total\n",
    "print(f'Evaluation after training, test accuracy: {accuracy:.4f}')"
   ]
  }
 ],
 "metadata": {
  "kernelspec": {
   "display_name": "bic_team",
   "language": "python",
   "name": "python3"
  },
  "language_info": {
   "codemirror_mode": {
    "name": "ipython",
    "version": 3
   },
   "file_extension": ".py",
   "mimetype": "text/x-python",
   "name": "python",
   "nbconvert_exporter": "python",
   "pygments_lexer": "ipython3",
   "version": "3.13.1"
  }
 },
 "nbformat": 4,
 "nbformat_minor": 2
}
