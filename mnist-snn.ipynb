{
 "cells": [
  {
   "cell_type": "markdown",
   "metadata": {},
   "source": [
    "# Fast-Classifying, High-Accuracy Spiking Deep Networks"
   ]
  },
  {
   "cell_type": "code",
   "execution_count": 1,
   "metadata": {},
   "outputs": [
    {
     "name": "stdout",
     "output_type": "stream",
     "text": [
      "cpu\n"
     ]
    }
   ],
   "source": [
    "import torch\n",
    "from torchvision.transforms import ToTensor#, Compose, Normalize\n",
    "from torchvision.datasets import MNIST\n",
    "\n",
    "import snntorch as snn\n",
    "import snntorch.functional as SF\n",
    "\n",
    "device = torch.device(\"cuda\" if torch.cuda.is_available() else \"cpu\")\n",
    "print(device)"
   ]
  },
  {
   "cell_type": "code",
   "execution_count": 2,
   "metadata": {},
   "outputs": [],
   "source": [
    "# data alread 0-1 normalised, simply convert to tensor\n",
    "transform_data = ToTensor()\n",
    "\n",
    "# Load the data\n",
    "batch_size = 100\n",
    "train_dataset = MNIST(root = './mnist/', train = True, download = True, transform=transform_data)\n",
    "test_dataset = MNIST(root = './mnist/', train = False, download = True, transform=transform_data)\n",
    "train_loader = torch.utils.data.DataLoader(train_dataset, batch_size = batch_size, shuffle = True)\n",
    "test_loader = torch.utils.data.DataLoader(test_dataset, batch_size = batch_size, shuffle = False)"
   ]
  },
  {
   "cell_type": "markdown",
   "metadata": {},
   "source": [
    "## FC ReLU Neural Network"
   ]
  },
  {
   "cell_type": "code",
   "execution_count": 3,
   "metadata": {},
   "outputs": [],
   "source": [
    "# fully connected neural network\n",
    "class FC_Net(torch.nn.Module):\n",
    "    def __init__(self, n_x: int, n_h: list, n_y: int):\n",
    "        super().__init__()\n",
    "\n",
    "        self.in_layer = torch.nn.Linear(n_x, n_h[0], bias=False)\n",
    "        self.h1_layer = torch.nn.Linear(n_h[0], n_h[1], bias=False)\n",
    "        self.h2_layer = torch.nn.Linear(n_h[1], n_y, bias=False)\n",
    "        self.dropout = torch.nn.Dropout()\n",
    "        self.activator = torch.nn.ReLU()\n",
    "\n",
    "    def forward(self, x):\n",
    "        # Flatten images\n",
    "        x = x.view(x.size(0), -1)\n",
    "        \n",
    "        inp = self.dropout(self.activator(self.in_layer(x)))\n",
    "        h1 = self.dropout(self.activator(self.h1_layer(inp)))\n",
    "        y = self.activator(self.h2_layer(h1))\n",
    "\n",
    "        return y\n",
    "    \n",
    "    def save_parameters(self, path: str):\n",
    "        torch.save(self.in_layer, path + \"0.pt\")\n",
    "        torch.save(self.h1_layer, path + \"1.pt\")\n",
    "        torch.save(self.h2_layer, path + \"2.pt\")\n",
    "\n",
    "    def load_parameters(self, path: str):\n",
    "        self.in_layer = torch.load(path + \"0.pt\", weights_only=False)\n",
    "        self.h1_layer = torch.load(path + \"1.pt\", weights_only=False)\n",
    "        self.h2_layer = torch.load(path + \"2.pt\", weights_only=False)"
   ]
  },
  {
   "cell_type": "code",
   "execution_count": 7,
   "metadata": {},
   "outputs": [
    {
     "data": {
      "text/plain": [
       "FC_Net(\n",
       "  (in_layer): Linear(in_features=784, out_features=1200, bias=False)\n",
       "  (h1_layer): Linear(in_features=1200, out_features=1200, bias=False)\n",
       "  (h2_layer): Linear(in_features=1200, out_features=10, bias=False)\n",
       "  (dropout): Dropout(p=0.5, inplace=False)\n",
       "  (activator): ReLU()\n",
       ")"
      ]
     },
     "execution_count": 7,
     "metadata": {},
     "output_type": "execute_result"
    }
   ],
   "source": [
    "def init_weights(m):\n",
    "    if isinstance(m, torch.nn.Linear):\n",
    "        torch.nn.init.uniform_(m.weight, -0.1, 0.1)\n",
    "\n",
    "fc_net = FC_Net(784, [1200, 1200], 10).to(device)\n",
    "fc_net.apply(init_weights)\n",
    "optimiser = torch.optim.Adam(fc_net.parameters())\n",
    "\n",
    "# optimiser used in the original paper seems to kill the gradients, so we're just going to use adam\n",
    "# optimiser = torch.optim.SGD(fc_net.parameters(), lr=.01, momentum=0.5)\n",
    "\n",
    "fc_net.train()"
   ]
  },
  {
   "cell_type": "code",
   "execution_count": null,
   "metadata": {},
   "outputs": [],
   "source": [
    "# Training model\n",
    "num_epochs = 15\n",
    "for epoch in range(num_epochs):\n",
    "    # Go trough all samples in train dataset\n",
    "    for i, (images, labels) in enumerate(train_loader):\n",
    "        # Get from dataloader and send to device\n",
    "        images = images.to(device)\n",
    "        labels = labels.to(device)\n",
    "        # Forward pass\n",
    "        outputs = fc_net(images)\n",
    "        # Compute loss\n",
    "        loss = torch.nn.functional.cross_entropy(outputs, labels)\n",
    "        # Backward and optimize\n",
    "        optimiser.zero_grad()\n",
    "        loss.backward()\n",
    "        optimiser.step()\n",
    "        # Display\n",
    "        if (i+1) % 100 == 0:\n",
    "            print (f'Epoch [{epoch+1}/{num_epochs}], Step [{i+1}/{len(train_loader)}], Loss: {loss.item():.4f}')"
   ]
  },
  {
   "cell_type": "code",
   "execution_count": 9,
   "metadata": {},
   "outputs": [
    {
     "name": "stdout",
     "output_type": "stream",
     "text": [
      "Evaluation after training, test accuracy: 0.9823\n"
     ]
    }
   ],
   "source": [
    "# Evaluate model accuracy on test after training\n",
    "# Set model in eval mode!\n",
    "fc_net.eval()\n",
    "# Evaluate\n",
    "with torch.no_grad():\n",
    "    correct = 0\n",
    "    total = 0\n",
    "    for images, labels in test_loader:\n",
    "        # Get images and labels from test loader\n",
    "        images = images.to(device)\n",
    "        labels = labels.to(device)\n",
    "        # Forward pass and predict class using max\n",
    "        outputs = fc_net(images)\n",
    "        _, predicted = torch.max(outputs.data, 1)\n",
    "        # Check if predicted class matches label\n",
    "        # and count number of correct predictions\n",
    "        total += labels.size(0)\n",
    "        correct += (predicted == labels).sum().item()\n",
    "# Compute final accuracy and display\n",
    "accuracy = correct/total\n",
    "print(f'Evaluation after training, test accuracy: {accuracy:.4f}')"
   ]
  },
  {
   "cell_type": "code",
   "execution_count": 10,
   "metadata": {},
   "outputs": [],
   "source": [
    "fc_net.save_parameters(\"params/linear\")"
   ]
  },
  {
   "cell_type": "markdown",
   "metadata": {},
   "source": [
    "## FC Spiking Neural Network"
   ]
  },
  {
   "cell_type": "code",
   "execution_count": 9,
   "metadata": {},
   "outputs": [],
   "source": [
    "# to generate poisson spike trains\n",
    "def to_poisson_spikes(data, steps: int, max_rate: int=200):\n",
    "\n",
    "    # Rescale factor for Poisson distribution\n",
    "    rescale_factor = max_rate / steps\n",
    "    rand_vals = torch.rand(steps, *data.shape, device=data.device)\n",
    "\n",
    "    # Compare against intensity to generate spikes\n",
    "    spikes = (rand_vals < data * rescale_factor).float()\n",
    "    \n",
    "    return spikes\n",
    "\n",
    "# fully connected neural network\n",
    "class FC_SNN(torch.nn.Module):\n",
    "    def __init__(self, n_x: int, n_h: list, n_y: int, beta: float=0, threshold: float=1, steps: int=100, rate: int=200):\n",
    "        super().__init__()\n",
    "\n",
    "        self.in_layer = torch.nn.Linear(n_x, n_h[0], bias=False)\n",
    "        self.h1_layer = torch.nn.Linear(n_h[0], n_h[1], bias=False)\n",
    "        self.h2_layer = torch.nn.Linear(n_h[1], n_y, bias=False)\n",
    "        self.in_active = snn.Leaky(beta=beta, threshold=threshold)\n",
    "        self.h1_active = snn.Leaky(beta=beta, threshold=threshold)\n",
    "        self.h2_active = snn.Leaky(beta=beta, threshold=threshold)\n",
    "\n",
    "        self.steps = steps\n",
    "        self.rate = rate\n",
    "\n",
    "    def forward(self, x):\n",
    "        # Flatten images\n",
    "        x = x.view(x.size(0), -1)\n",
    "        x = to_poisson_spikes(x, self.steps, self.rate)\n",
    "        # x = snn.spikegen.rate(x, self.steps)\n",
    "\n",
    "        memin = self.in_active.reset_mem()\n",
    "        memh1 = self.h1_active.reset_mem()\n",
    "        memh2 = self.h2_active.reset_mem()\n",
    "\n",
    "        out_spikes = []\n",
    "        memh2_mem = []\n",
    "\n",
    "        for step in x:\n",
    "            curin = self.in_layer(step)\n",
    "            spkin, memin = self.in_active(curin, memin)\n",
    "            curh1 = self.h1_layer(spkin)\n",
    "            spkh1, memh1 = self.h1_active(curh1, memh1)\n",
    "            curh2 = self.h2_layer(spkh1)\n",
    "            spkh2, memh2 = self.h2_active(curh2, memh2)\n",
    "\n",
    "            out_spikes.append(spkh2)\n",
    "            memh2_mem.append(memh2)\n",
    "\n",
    "        return torch.stack(out_spikes), torch.stack(memh2_mem)\n",
    "\n",
    "    def save_parameters(self, path: str):\n",
    "        torch.save(self.in_layer, path + \"0.pt\")\n",
    "        torch.save(self.h1_layer, path + \"1.pt\")\n",
    "        torch.save(self.h2_layer, path + \"2.pt\")\n",
    "\n",
    "    def load_parameters(self, path: str):\n",
    "        self.in_layer = torch.load(path + \"0.pt\", weights_only=False)\n",
    "        self.h1_layer = torch.load(path + \"1.pt\", weights_only=False)\n",
    "        self.h2_layer = torch.load(path + \"2.pt\", weights_only=False)"
   ]
  },
  {
   "cell_type": "code",
   "execution_count": 5,
   "metadata": {},
   "outputs": [
    {
     "data": {
      "text/plain": [
       "FC_SNN(\n",
       "  (in_layer): Linear(in_features=784, out_features=1200, bias=False)\n",
       "  (h1_layer): Linear(in_features=1200, out_features=1200, bias=False)\n",
       "  (h2_layer): Linear(in_features=1200, out_features=10, bias=False)\n",
       "  (in_active): Leaky()\n",
       "  (h1_active): Leaky()\n",
       "  (h2_active): Leaky()\n",
       ")"
      ]
     },
     "execution_count": 5,
     "metadata": {},
     "output_type": "execute_result"
    }
   ],
   "source": [
    "step_count = 100\n",
    "fc_snn = FC_SNN(784, [1200, 1200], 10, beta=1, threshold=4, steps=step_count, rate=200).to(device)\n",
    "fc_snn.load_parameters(\"params/linear\")\n",
    "fc_snn.eval()"
   ]
  },
  {
   "cell_type": "code",
   "execution_count": 64,
   "metadata": {},
   "outputs": [
    {
     "name": "stdout",
     "output_type": "stream",
     "text": [
      "Evaluation after training, test accuracy: 0.9807\n"
     ]
    }
   ],
   "source": [
    "with torch.no_grad():\n",
    "    total = 0\n",
    "    correct = 0\n",
    "    for images, labels in test_loader:\n",
    "        images = images.to(device)\n",
    "        labels = labels.to(device)\n",
    "        spk_out, _ = fc_snn(images)\n",
    "\n",
    "        correct += SF.accuracy_rate(spk_out, labels) * spk_out.size(1)\n",
    "        total += spk_out.size(1)\n",
    "\n",
    "accuracy = correct/total\n",
    "print(f'Evaluation after training, test accuracy: {accuracy:.4f}')"
   ]
  },
  {
   "cell_type": "markdown",
   "metadata": {},
   "source": [
    "## FC Neural Network Model Normalisation"
   ]
  },
  {
   "cell_type": "code",
   "execution_count": 5,
   "metadata": {},
   "outputs": [],
   "source": [
    "# model based normalisation algorithm\n",
    "def model_norm(model: torch.nn.Module, include_last: bool=False):\n",
    "    \"\"\"\n",
    "    takes any pytorch module or network and does model normalisation across all layers.\n",
    "    by default, the last layer is not normalised.\n",
    "    \"\"\"\n",
    "    param_count = len([param for param in model.parameters()])\n",
    "    param_geny = model.parameters()\n",
    "    layers = param_count if include_last else param_count - 1\n",
    "    layer_scales = []\n",
    "\n",
    "    for _ in range(layers):\n",
    "        neurons = next(param_geny)\n",
    "        max_pos_in = 0\n",
    "\n",
    "        for neuron in neurons:\n",
    "            input_sum = 0\n",
    "\n",
    "            for weight in neuron:\n",
    "                # compute maximum possible input size to a particular neuron\n",
    "                input_sum += max(0, weight)\n",
    "\n",
    "            # save maximum possible input across all neurons\n",
    "            max_pos_in = max(max_pos_in, input_sum)\n",
    "        \n",
    "        # rescale all weights wrt maximum possible input\n",
    "        neurons.data = neurons / max_pos_in # without .data this becomes out-of-place for some reason\n",
    "        layer_scales.append(max_pos_in)\n",
    "    \n",
    "    return layer_scales"
   ]
  },
  {
   "cell_type": "code",
   "execution_count": null,
   "metadata": {},
   "outputs": [],
   "source": [
    "# to load and rescale from scratch\n",
    "fc_snn = FC_SNN(784, [1200, 1200], 10, beta=1).to(device)\n",
    "fc_snn.load_parameters(\"params/linear\")\n",
    "fc_snn.eval()\n",
    "\n",
    "scaling_factors = model_norm(fc_snn, False)\n",
    "print(scaling_factors)\n",
    "fc_snn.save_parameters(\"params/model_norm\")"
   ]
  },
  {
   "cell_type": "code",
   "execution_count": 9,
   "metadata": {},
   "outputs": [
    {
     "data": {
      "text/plain": [
       "FC_SNN(\n",
       "  (in_layer): Linear(in_features=784, out_features=1200, bias=False)\n",
       "  (h1_layer): Linear(in_features=1200, out_features=1200, bias=False)\n",
       "  (h2_layer): Linear(in_features=1200, out_features=10, bias=False)\n",
       "  (in_active): Leaky()\n",
       "  (h1_active): Leaky()\n",
       "  (h2_active): Leaky()\n",
       ")"
      ]
     },
     "execution_count": 9,
     "metadata": {},
     "output_type": "execute_result"
    }
   ],
   "source": [
    "# to load rescaled weights from file\n",
    "max_rate = 400\n",
    "threshold = 0.25\n",
    "simulation_time = 0.5\n",
    "\n",
    "fc_snn = FC_SNN(784, [1200, 1200], 10, beta=1, threshold=threshold, steps=int(max_rate * simulation_time), rate=max_rate).to(device)\n",
    "fc_snn.load_parameters(\"params/model_norm\")\n",
    "fc_snn.eval()"
   ]
  },
  {
   "cell_type": "code",
   "execution_count": 10,
   "metadata": {},
   "outputs": [
    {
     "name": "stdout",
     "output_type": "stream",
     "text": [
      "Evaluation after training, test accuracy: 0.9803\n"
     ]
    }
   ],
   "source": [
    "with torch.no_grad():\n",
    "    total = 0\n",
    "    correct = 0\n",
    "    for images, labels in test_loader:\n",
    "        images = images.to(device)\n",
    "        labels = labels.to(device)\n",
    "        spk_out, _ = fc_snn(images)\n",
    "\n",
    "        correct += SF.accuracy_rate(spk_out, labels) * spk_out.size(1)\n",
    "        total += spk_out.size(1)\n",
    "\n",
    "accuracy = correct/total\n",
    "print(f'Evaluation after training, test accuracy: {accuracy:.4f}')"
   ]
  },
  {
   "cell_type": "markdown",
   "metadata": {},
   "source": [
    "## FC Neural Network Data Normalisation"
   ]
  },
  {
   "cell_type": "code",
   "execution_count": 3,
   "metadata": {},
   "outputs": [],
   "source": [
    "# counting feed forward network for data normalisation\n",
    "class FC_Count_Net(torch.nn.Module):\n",
    "    def __init__(self, n_x: int, n_h: list, n_y: int):\n",
    "        super().__init__()\n",
    "\n",
    "        self.dims = [n_x, n_h, n_y]\n",
    "\n",
    "        self.in_layer = torch.nn.Linear(n_x, n_h[0], bias=False)\n",
    "        self.h1_layer = torch.nn.Linear(n_h[0], n_h[1], bias=False)\n",
    "        self.h2_layer = torch.nn.Linear(n_h[1], n_y, bias=False)\n",
    "        self.activator = torch.nn.ReLU()\n",
    "\n",
    "        # to store maximum activations\n",
    "        self.maxin_act = torch.zeros([n_h[0]])\n",
    "        self.maxh1_act = torch.zeros([n_h[1]])\n",
    "        self.maxh2_act = torch.zeros([n_y])\n",
    "\n",
    "    def forward(self, x):\n",
    "        # Flatten images\n",
    "        x = x.view(x.size(0), -1)\n",
    "        \n",
    "        inp = self.activator(self.in_layer(x))\n",
    "        self.maxin_act = torch.maximum(self.maxin_act, inp)\n",
    "\n",
    "        h1 = self.activator(self.h1_layer(inp))\n",
    "        self.maxh1_act = torch.maximum(self.maxh1_act, h1)\n",
    "\n",
    "        y = self.activator(self.h2_layer(h1))\n",
    "        self.maxh2_act = torch.maximum(self.maxh2_act, y)\n",
    "\n",
    "        return y\n",
    "    \n",
    "    def reset_max_count(self):\n",
    "        \"\"\"reset maximum activation memory\"\"\"\n",
    "        self.maxin_act = torch.zeros([self.dims[1][0]])\n",
    "        self.maxh1_act = torch.zeros([self.dims[1][1]])\n",
    "        self.maxh2_act = torch.zeros([self.dims[2]])\n",
    "    \n",
    "    def save_parameters(self, path: str):\n",
    "        torch.save(self.in_layer, path + \"0.pt\")\n",
    "        torch.save(self.h1_layer, path + \"1.pt\")\n",
    "        torch.save(self.h2_layer, path + \"2.pt\")\n",
    "\n",
    "    def load_parameters(self, path: str):\n",
    "        self.in_layer = torch.load(path + \"0.pt\", weights_only=False)\n",
    "        self.h1_layer = torch.load(path + \"1.pt\", weights_only=False)\n",
    "        self.h2_layer = torch.load(path + \"2.pt\", weights_only=False)"
   ]
  },
  {
   "cell_type": "code",
   "execution_count": 6,
   "metadata": {},
   "outputs": [
    {
     "name": "stdout",
     "output_type": "stream",
     "text": [
      "tensor([[3.7076, 3.6518, 1.7070,  ..., 3.2691, 7.0213, 4.6011]])\n",
      "tensor([[6.4801, 2.1321, 9.1305,  ..., 8.6561, 7.5289, 8.5343]])\n",
      "tensor([[68.3983, 42.4817, 80.4577, 64.8406, 60.4998, 58.6631, 74.8351, 70.2156,\n",
      "         34.5703, 37.1122]])\n"
     ]
    }
   ],
   "source": [
    "# get maximum neuron activations\n",
    "count_loader = torch.utils.data.DataLoader(train_dataset, batch_size = 1, shuffle = False)\n",
    "fc_count_net = FC_Count_Net(784, [1200, 1200], 10).to(device)\n",
    "fc_count_net.load_parameters(\"params/linear\")\n",
    "fc_count_net.eval()\n",
    "\n",
    "with torch.no_grad():\n",
    "\n",
    "    for images, labels in count_loader:\n",
    "\n",
    "        images = images.to(device)\n",
    "        labels = labels.to(device)\n",
    "\n",
    "        _ = fc_count_net(images)\n",
    "\n",
    "max_activations = [torch.max(fc_count_net.maxin_act), torch.max(fc_count_net.maxh1_act), torch.max(fc_count_net.maxh2_act)]"
   ]
  },
  {
   "cell_type": "code",
   "execution_count": 7,
   "metadata": {},
   "outputs": [],
   "source": [
    "# algorithm for data normalisation\n",
    "def data_norm(model: torch.nn.Module, activations: list[torch.Tensor], include_last: bool=True):\n",
    "    \"\"\"\n",
    "    takes a pytorch module or network and does data normalisation.\n",
    "    requires the list of maximum activations from each layer.\n",
    "    unlike model normalisation, also normalises the last layer by default.\n",
    "    \"\"\"\n",
    "    param_count = len([param for param in model.parameters()])\n",
    "    param_geny = model.parameters()\n",
    "    layers = param_count if include_last else param_count - 1\n",
    "    layer_scales = []\n",
    "\n",
    "    previous_factor = 1\n",
    "\n",
    "    for i in range(layers):\n",
    "        neurons = next(param_geny)\n",
    "        max_weight = 0\n",
    "        max_active = 0\n",
    "\n",
    "        for neuron in neurons:\n",
    "\n",
    "            for weight in neuron:\n",
    "                # grab maximum input weight\n",
    "                max_weight = max(max_weight, weight)\n",
    "\n",
    "        scale_factor = max(max_weight, activations[i])\n",
    "        applied_factor = scale_factor / previous_factor\n",
    "\n",
    "        # rescale all weights wrt applied factor\n",
    "        neurons.data = neurons / applied_factor # without .data this becomes out-of-place for some reason\n",
    "        previous_factor = scale_factor\n",
    "        layer_scales.append(applied_factor)\n",
    "    \n",
    "    return layer_scales"
   ]
  },
  {
   "cell_type": "code",
   "execution_count": 11,
   "metadata": {},
   "outputs": [
    {
     "name": "stdout",
     "output_type": "stream",
     "text": [
      "[tensor(8.4872), tensor(2.1156), tensor(4.4810)]\n"
     ]
    }
   ],
   "source": [
    "# to load and rescale from scratch\n",
    "fc_snn = FC_SNN(784, [1200, 1200], 10, beta=1).to(device)\n",
    "fc_snn.load_parameters(\"params/linear\")\n",
    "fc_snn.eval()\n",
    "\n",
    "scaling_factors = data_norm(fc_snn, [fc_count_net.maxin_act, fc_count_net.maxh1_act, fc_count_net.maxh2_act])\n",
    "print(scaling_factors)\n",
    "fc_snn.save_parameters(\"params/data_norm\")"
   ]
  },
  {
   "cell_type": "code",
   "execution_count": 17,
   "metadata": {},
   "outputs": [
    {
     "data": {
      "text/plain": [
       "FC_SNN(\n",
       "  (in_layer): Linear(in_features=784, out_features=1200, bias=False)\n",
       "  (h1_layer): Linear(in_features=1200, out_features=1200, bias=False)\n",
       "  (h2_layer): Linear(in_features=1200, out_features=10, bias=False)\n",
       "  (in_active): Leaky()\n",
       "  (h1_active): Leaky()\n",
       "  (h2_active): Leaky()\n",
       ")"
      ]
     },
     "execution_count": 17,
     "metadata": {},
     "output_type": "execute_result"
    }
   ],
   "source": [
    "# to load rescaled weights from file\n",
    "max_rate = 400\n",
    "threshold = 1\n",
    "simulation_time = 0.5\n",
    "\n",
    "fc_snn = FC_SNN(784, [1200, 1200], 10, beta=1, threshold=threshold, steps=int(max_rate * simulation_time), rate=max_rate).to(device)\n",
    "fc_snn.load_parameters(\"params/data_norm\")\n",
    "fc_snn.eval()"
   ]
  },
  {
   "cell_type": "code",
   "execution_count": 18,
   "metadata": {},
   "outputs": [
    {
     "name": "stdout",
     "output_type": "stream",
     "text": [
      "Evaluation after training, test accuracy: 0.9815\n"
     ]
    }
   ],
   "source": [
    "with torch.no_grad():\n",
    "    total = 0\n",
    "    correct = 0\n",
    "    for images, labels in test_loader:\n",
    "        images = images.to(device)\n",
    "        labels = labels.to(device)\n",
    "        spk_out, _ = fc_snn(images)\n",
    "\n",
    "        correct += SF.accuracy_rate(spk_out, labels) * spk_out.size(1)\n",
    "        total += spk_out.size(1)\n",
    "\n",
    "accuracy = correct/total\n",
    "print(f'Evaluation after training, test accuracy: {accuracy:.4f}')"
   ]
  }
 ],
 "metadata": {
  "kernelspec": {
   "display_name": "bic_team",
   "language": "python",
   "name": "python3"
  },
  "language_info": {
   "codemirror_mode": {
    "name": "ipython",
    "version": 3
   },
   "file_extension": ".py",
   "mimetype": "text/x-python",
   "name": "python",
   "nbconvert_exporter": "python",
   "pygments_lexer": "ipython3",
   "version": "3.13.1"
  }
 },
 "nbformat": 4,
 "nbformat_minor": 2
}
