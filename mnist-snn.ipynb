{
 "cells": [
  {
   "cell_type": "markdown",
   "metadata": {},
   "source": [
    "# SNN Weight & Threshold Balancing - Fully Connected"
   ]
  },
  {
   "cell_type": "code",
   "execution_count": 1,
   "metadata": {},
   "outputs": [
    {
     "name": "stdout",
     "output_type": "stream",
     "text": [
      "cpu\n"
     ]
    }
   ],
   "source": [
    "import torch\n",
    "from torchvision.transforms import ToTensor\n",
    "from torchvision.datasets import MNIST\n",
    "\n",
    "import snntorch as snn\n",
    "import snntorch.functional as SF\n",
    "\n",
    "from spike_nets import FC_Net, FC_SNN, FC_Count_Net\n",
    "\n",
    "device = torch.device(\"cuda\" if torch.cuda.is_available() else \"cpu\")\n",
    "print(device)"
   ]
  },
  {
   "cell_type": "code",
   "execution_count": 2,
   "metadata": {},
   "outputs": [],
   "source": [
    "# data alread 0-1 normalised, simply convert to tensor\n",
    "transform_data = ToTensor()\n",
    "\n",
    "# Load the data\n",
    "batch_size = 100\n",
    "train_dataset = MNIST(root = './mnist/', train = True, download = True, transform=transform_data)\n",
    "test_dataset = MNIST(root = './mnist/', train = False, download = True, transform=transform_data)\n",
    "train_loader = torch.utils.data.DataLoader(train_dataset, batch_size = batch_size, shuffle = True)\n",
    "test_loader = torch.utils.data.DataLoader(test_dataset, batch_size = batch_size, shuffle = False)"
   ]
  },
  {
   "cell_type": "markdown",
   "metadata": {},
   "source": [
    "## FC ReLU Neural Network"
   ]
  },
  {
   "cell_type": "code",
   "execution_count": 3,
   "metadata": {},
   "outputs": [
    {
     "data": {
      "text/plain": [
       "FC_Net(\n",
       "  (in_layer): Linear(in_features=784, out_features=1200, bias=False)\n",
       "  (h1_layer): Linear(in_features=1200, out_features=1200, bias=False)\n",
       "  (h2_layer): Linear(in_features=1200, out_features=10, bias=False)\n",
       "  (dropout): Dropout(p=0.5, inplace=False)\n",
       "  (activator): ReLU()\n",
       ")"
      ]
     },
     "execution_count": 3,
     "metadata": {},
     "output_type": "execute_result"
    }
   ],
   "source": [
    "def init_weights(m):\n",
    "    if isinstance(m, torch.nn.Linear):\n",
    "        torch.nn.init.uniform_(m.weight, -0.1, 0.1)\n",
    "\n",
    "fc_net = FC_Net(784, [1200, 1200], 10).to(device)\n",
    "fc_net.apply(init_weights)\n",
    "optimiser = torch.optim.Adam(fc_net.parameters())\n",
    "\n",
    "# optimiser used in the original paper seems to kill the gradients, so we're just going to use adam\n",
    "# optimiser = torch.optim.SGD(fc_net.parameters(), lr=.01, momentum=0.5)\n",
    "\n",
    "fc_net.train()"
   ]
  },
  {
   "cell_type": "code",
   "execution_count": null,
   "metadata": {},
   "outputs": [],
   "source": [
    "# Training model\n",
    "num_epochs = 15\n",
    "for epoch in range(num_epochs):\n",
    "    # Go trough all samples in train dataset\n",
    "    for i, (images, labels) in enumerate(train_loader):\n",
    "        # Get from dataloader and send to device\n",
    "        images = images.to(device)\n",
    "        labels = labels.to(device)\n",
    "        # Forward pass\n",
    "        outputs = fc_net(images)\n",
    "        # Compute loss\n",
    "        loss = torch.nn.functional.cross_entropy(outputs, labels)\n",
    "        # Backward and optimize\n",
    "        optimiser.zero_grad()\n",
    "        loss.backward()\n",
    "        optimiser.step()\n",
    "        # Display\n",
    "        if (i+1) % 100 == 0:\n",
    "            print (f'Epoch [{epoch+1}/{num_epochs}], Step [{i+1}/{len(train_loader)}], Loss: {loss.item():.4f}')"
   ]
  },
  {
   "cell_type": "code",
   "execution_count": 5,
   "metadata": {},
   "outputs": [
    {
     "name": "stdout",
     "output_type": "stream",
     "text": [
      "Evaluation after training, test accuracy: 0.9825\n"
     ]
    }
   ],
   "source": [
    "# Evaluate model accuracy on test after training\n",
    "# Set model in eval mode!\n",
    "fc_net.eval()\n",
    "# Evaluate\n",
    "with torch.no_grad():\n",
    "    correct = 0\n",
    "    total = 0\n",
    "    for images, labels in test_loader:\n",
    "        # Get images and labels from test loader\n",
    "        images = images.to(device)\n",
    "        labels = labels.to(device)\n",
    "        # Forward pass and predict class using max\n",
    "        outputs = fc_net(images)\n",
    "        _, predicted = torch.max(outputs.data, 1)\n",
    "        # Check if predicted class matches label\n",
    "        # and count number of correct predictions\n",
    "        total += labels.size(0)\n",
    "        correct += (predicted == labels).sum().item()\n",
    "# Compute final accuracy and display\n",
    "accuracy = correct/total\n",
    "print(f'Evaluation after training, test accuracy: {accuracy:.4f}')"
   ]
  },
  {
   "cell_type": "code",
   "execution_count": 10,
   "metadata": {},
   "outputs": [],
   "source": [
    "fc_net.save_parameters(\"params/linear\")"
   ]
  },
  {
   "cell_type": "markdown",
   "metadata": {},
   "source": [
    "## FC Spiking Neural Network"
   ]
  },
  {
   "cell_type": "code",
   "execution_count": 3,
   "metadata": {},
   "outputs": [
    {
     "data": {
      "text/plain": [
       "FC_SNN(\n",
       "  (in_layer): Linear(in_features=784, out_features=1200, bias=False)\n",
       "  (h1_layer): Linear(in_features=1200, out_features=1200, bias=False)\n",
       "  (h2_layer): Linear(in_features=1200, out_features=10, bias=False)\n",
       "  (in_active): Leaky()\n",
       "  (h1_active): Leaky()\n",
       "  (h2_active): Leaky()\n",
       ")"
      ]
     },
     "execution_count": 3,
     "metadata": {},
     "output_type": "execute_result"
    }
   ],
   "source": [
    "step_count = 100\n",
    "fc_snn = FC_SNN(784, [1200, 1200], 10, beta=1, threshold=4, steps=step_count, rate=200).to(device)\n",
    "fc_snn.load_parameters(\"params/linear\")\n",
    "fc_snn.eval()"
   ]
  },
  {
   "cell_type": "code",
   "execution_count": 4,
   "metadata": {},
   "outputs": [
    {
     "name": "stdout",
     "output_type": "stream",
     "text": [
      "Evaluation after training, test accuracy: 0.9809\n"
     ]
    }
   ],
   "source": [
    "with torch.no_grad():\n",
    "    total = 0\n",
    "    correct = 0\n",
    "    for images, labels in test_loader:\n",
    "        images = images.to(device)\n",
    "        labels = labels.to(device)\n",
    "        spk_out, _ = fc_snn(images)\n",
    "\n",
    "        correct += SF.accuracy_rate(spk_out, labels) * spk_out.size(1)\n",
    "        total += spk_out.size(1)\n",
    "\n",
    "accuracy = correct/total\n",
    "print(f'Evaluation after training, test accuracy: {accuracy:.4f}')"
   ]
  },
  {
   "cell_type": "markdown",
   "metadata": {},
   "source": [
    "## FC Neural Network Model Normalisation"
   ]
  },
  {
   "cell_type": "code",
   "execution_count": 3,
   "metadata": {},
   "outputs": [],
   "source": [
    "# model based normalisation algorithm\n",
    "def model_norm(model: torch.nn.Module, include_last: bool = False):\n",
    "    \"\"\"\n",
    "    takes any pytorch module or network and does model normalisation across all layers.\n",
    "    by default, the last layer is not normalised.\n",
    "    \"\"\"\n",
    "    param_list = [param for param in model.parameters() if param.requires_grad]\n",
    "    param_geny = iter(param_list)  # reset generator\n",
    "\n",
    "    param_count = len(param_list)\n",
    "    layers = param_count if include_last else param_count - 1\n",
    "    layer_scales = []\n",
    "\n",
    "    for _ in range(layers):\n",
    "        neurons = next(param_geny)\n",
    "        max_pos_in = 0\n",
    "\n",
    "        if neurons.dim() >= 2:  # if layer is linear/conv\n",
    "\n",
    "            for neuron in neurons:    \n",
    "                input_sum = torch.sum(torch.clamp(neuron, min=0)) # sum all positive parameters\n",
    "                max_pos_in = max(max_pos_in, input_sum.item())\n",
    "\n",
    "        if max_pos_in > 0:\n",
    "            neurons.data /= max_pos_in  # without .data this becomes out-of-place for some reason\n",
    "\n",
    "        layer_scales.append(max_pos_in)\n",
    "\n",
    "    return layer_scales"
   ]
  },
  {
   "cell_type": "code",
   "execution_count": 4,
   "metadata": {},
   "outputs": [
    {
     "name": "stdout",
     "output_type": "stream",
     "text": [
      "[32.103599548339844, 52.59414291381836]\n"
     ]
    }
   ],
   "source": [
    "# to load and rescale from scratch\n",
    "fc_mn_snn = FC_SNN(784, [1200, 1200], 10, beta=1).to(device)\n",
    "fc_mn_snn.load_parameters(\"params/linear\")\n",
    "fc_mn_snn.eval()\n",
    "\n",
    "scaling_factors = model_norm(fc_mn_snn, False)\n",
    "print(scaling_factors)\n",
    "fc_mn_snn.save_parameters(\"params/model_norm\")"
   ]
  },
  {
   "cell_type": "code",
   "execution_count": 9,
   "metadata": {},
   "outputs": [
    {
     "data": {
      "text/plain": [
       "FC_SNN(\n",
       "  (in_layer): Linear(in_features=784, out_features=1200, bias=False)\n",
       "  (h1_layer): Linear(in_features=1200, out_features=1200, bias=False)\n",
       "  (h2_layer): Linear(in_features=1200, out_features=10, bias=False)\n",
       "  (in_active): Leaky()\n",
       "  (h1_active): Leaky()\n",
       "  (h2_active): Leaky()\n",
       ")"
      ]
     },
     "execution_count": 9,
     "metadata": {},
     "output_type": "execute_result"
    }
   ],
   "source": [
    "# to load rescaled weights from file\n",
    "max_rate = 400\n",
    "threshold = 0.25\n",
    "simulation_time = 0.5\n",
    "\n",
    "fc_mn_snn = FC_SNN(784, [1200, 1200], 10, beta=1, threshold=threshold, steps=int(max_rate * simulation_time), rate=max_rate).to(device)\n",
    "fc_mn_snn.load_parameters(\"params/model_norm\")\n",
    "fc_mn_snn.eval()"
   ]
  },
  {
   "cell_type": "code",
   "execution_count": 10,
   "metadata": {},
   "outputs": [
    {
     "name": "stdout",
     "output_type": "stream",
     "text": [
      "Evaluation after training, test accuracy: 0.9803\n"
     ]
    }
   ],
   "source": [
    "with torch.no_grad():\n",
    "    total = 0\n",
    "    correct = 0\n",
    "    for images, labels in test_loader:\n",
    "        images = images.to(device)\n",
    "        labels = labels.to(device)\n",
    "        spk_out, _ = fc_mn_snn(images)\n",
    "\n",
    "        correct += SF.accuracy_rate(spk_out, labels) * spk_out.size(1)\n",
    "        total += spk_out.size(1)\n",
    "\n",
    "accuracy = correct/total\n",
    "print(f'Evaluation after training, test accuracy: {accuracy:.4f}')"
   ]
  },
  {
   "cell_type": "markdown",
   "metadata": {},
   "source": [
    "## FC Neural Network Data Normalisation"
   ]
  },
  {
   "cell_type": "code",
   "execution_count": 5,
   "metadata": {},
   "outputs": [],
   "source": [
    "# get maximum neuron activations\n",
    "count_loader = torch.utils.data.DataLoader(train_dataset, batch_size = 1, shuffle = False)\n",
    "fc_count_net = FC_Count_Net(784, [1200, 1200], 10).to(device)\n",
    "fc_count_net.load_parameters(\"params/linear\")\n",
    "fc_count_net.eval()\n",
    "\n",
    "with torch.no_grad():\n",
    "\n",
    "    for images, labels in count_loader:\n",
    "\n",
    "        images = images.to(device)\n",
    "        labels = labels.to(device)\n",
    "\n",
    "        _ = fc_count_net(images)\n",
    "\n",
    "max_activations = [torch.max(fc_count_net.maxin_act), torch.max(fc_count_net.maxh1_act), torch.max(fc_count_net.maxh2_act)]"
   ]
  },
  {
   "cell_type": "code",
   "execution_count": 9,
   "metadata": {},
   "outputs": [],
   "source": [
    "# algorithm for data normalisation\n",
    "def data_norm(model: torch.nn.Module, activations: list[torch.Tensor], include_last: bool=True):\n",
    "    \"\"\"\n",
    "    takes a pytorch module or network and does data normalisation.\n",
    "    requires the list of maximum activations from each layer.\n",
    "    unlike model normalisation, also normalises the last layer by default.\n",
    "    \"\"\"\n",
    "    param_list = [param for param in model.parameters() if param.requires_grad]\n",
    "    param_geny = iter(param_list)\n",
    "\n",
    "    param_count = len(param_list)\n",
    "    layers = param_count if include_last else param_count - 1\n",
    "    layer_scales = []\n",
    "\n",
    "    previous_factor = 1\n",
    "\n",
    "    for i in range(layers):\n",
    "        neurons = next(param_geny)\n",
    "        max_weight = 0\n",
    "\n",
    "        if neurons.dim() >= 2:\n",
    "\n",
    "            for neuron in neurons:\n",
    "                # grab maximum single weight across input connections\n",
    "                max_weight = max(max_weight, torch.max(neuron))\n",
    "\n",
    "        if max_weight > 0:\n",
    "            scale_factor = max(max_weight, activations[i])\n",
    "            applied_factor = scale_factor / previous_factor\n",
    "\n",
    "        # rescale all weights wrt applied factor\n",
    "        neurons.data = neurons / applied_factor # without .data this becomes out-of-place for some reason\n",
    "        previous_factor = scale_factor\n",
    "        layer_scales.append(applied_factor)\n",
    "    \n",
    "    return layer_scales"
   ]
  },
  {
   "cell_type": "code",
   "execution_count": 10,
   "metadata": {},
   "outputs": [
    {
     "name": "stdout",
     "output_type": "stream",
     "text": [
      "[tensor(8.4872), tensor(2.1156), tensor(4.4810)]\n"
     ]
    }
   ],
   "source": [
    "# to load and rescale from scratch\n",
    "fc_dn_snn = FC_SNN(784, [1200, 1200], 10, beta=1).to(device)\n",
    "fc_dn_snn.load_parameters(\"params/linear\")\n",
    "fc_dn_snn.eval()\n",
    "\n",
    "scaling_factors = data_norm(fc_dn_snn, max_activations)\n",
    "print(scaling_factors)\n",
    "fc_dn_snn.save_parameters(\"params/data_norm\")"
   ]
  },
  {
   "cell_type": "code",
   "execution_count": 17,
   "metadata": {},
   "outputs": [
    {
     "data": {
      "text/plain": [
       "FC_SNN(\n",
       "  (in_layer): Linear(in_features=784, out_features=1200, bias=False)\n",
       "  (h1_layer): Linear(in_features=1200, out_features=1200, bias=False)\n",
       "  (h2_layer): Linear(in_features=1200, out_features=10, bias=False)\n",
       "  (in_active): Leaky()\n",
       "  (h1_active): Leaky()\n",
       "  (h2_active): Leaky()\n",
       ")"
      ]
     },
     "execution_count": 17,
     "metadata": {},
     "output_type": "execute_result"
    }
   ],
   "source": [
    "# to load rescaled weights from file\n",
    "max_rate = 400\n",
    "threshold = 1\n",
    "simulation_time = 0.5\n",
    "\n",
    "fc_dn_snn = FC_SNN(784, [1200, 1200], 10, beta=1, threshold=threshold, steps=int(max_rate * simulation_time), rate=max_rate).to(device)\n",
    "fc_dn_snn.load_parameters(\"params/data_norm\")\n",
    "fc_dn_snn.eval()"
   ]
  },
  {
   "cell_type": "code",
   "execution_count": 18,
   "metadata": {},
   "outputs": [
    {
     "name": "stdout",
     "output_type": "stream",
     "text": [
      "Evaluation after training, test accuracy: 0.9815\n"
     ]
    }
   ],
   "source": [
    "with torch.no_grad():\n",
    "    total = 0\n",
    "    correct = 0\n",
    "    for images, labels in test_loader:\n",
    "        images = images.to(device)\n",
    "        labels = labels.to(device)\n",
    "        spk_out, _ = fc_dn_snn(images)\n",
    "\n",
    "        correct += SF.accuracy_rate(spk_out, labels) * spk_out.size(1)\n",
    "        total += spk_out.size(1)\n",
    "\n",
    "accuracy = correct/total\n",
    "print(f'Evaluation after training, test accuracy: {accuracy:.4f}')"
   ]
  }
 ],
 "metadata": {
  "kernelspec": {
   "display_name": "bic_team",
   "language": "python",
   "name": "python3"
  },
  "language_info": {
   "codemirror_mode": {
    "name": "ipython",
    "version": 3
   },
   "file_extension": ".py",
   "mimetype": "text/x-python",
   "name": "python",
   "nbconvert_exporter": "python",
   "pygments_lexer": "ipython3",
   "version": "3.13.1"
  }
 },
 "nbformat": 4,
 "nbformat_minor": 2
}
