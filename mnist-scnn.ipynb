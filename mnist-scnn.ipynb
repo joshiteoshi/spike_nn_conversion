{
 "cells": [
  {
   "cell_type": "markdown",
   "metadata": {},
   "source": [
    "# SNN Weight & Threshold Balancing - Convolutional"
   ]
  },
  {
   "cell_type": "code",
   "execution_count": 1,
   "metadata": {},
   "outputs": [
    {
     "name": "stdout",
     "output_type": "stream",
     "text": [
      "cpu\n"
     ]
    }
   ],
   "source": [
    "import torch\n",
    "from torchvision.transforms import ToTensor#, Compose, Normalize\n",
    "from torchvision.datasets import MNIST\n",
    "\n",
    "import snntorch as snn\n",
    "import snntorch.functional as SF\n",
    "\n",
    "device = torch.device(\"cuda\" if torch.cuda.is_available() else \"cpu\")\n",
    "print(device)"
   ]
  },
  {
   "cell_type": "code",
   "execution_count": 2,
   "metadata": {},
   "outputs": [],
   "source": [
    "# data alread 0-1 normalised, simply convert to tensor\n",
    "transform_data = ToTensor()\n",
    "\n",
    "# Load the data\n",
    "batch_size = 100\n",
    "train_dataset = MNIST(root = './mnist/', train = True, download = True, transform=transform_data)\n",
    "test_dataset = MNIST(root = './mnist/', train = False, download = True, transform=transform_data)\n",
    "train_loader = torch.utils.data.DataLoader(train_dataset, batch_size = batch_size, shuffle = True)\n",
    "test_loader = torch.utils.data.DataLoader(test_dataset, batch_size = batch_size, shuffle = False)"
   ]
  },
  {
   "cell_type": "markdown",
   "metadata": {},
   "source": [
    "## Convolutional ReLU Neural Network"
   ]
  },
  {
   "cell_type": "code",
   "execution_count": 6,
   "metadata": {},
   "outputs": [],
   "source": [
    "# convolutional neural network\n",
    "class Conv_Net(torch.nn.Module):\n",
    "    def __init__(self, n_x: int, n_h: list, n_y: list, kernel_size: int=5):\n",
    "        super().__init__()\n",
    "\n",
    "        self.in_layer = torch.nn.Conv2d(n_x, n_h[0], kernel_size, bias=False)\n",
    "        self.h1_layer = torch.nn.Conv2d(n_h[0], n_h[1], kernel_size, bias=False)\n",
    "        self.h2_layer = torch.nn.Linear(n_y[0], n_y[1], bias=False)\n",
    "        self.pooling = torch.nn.AvgPool2d(2)\n",
    "        self.dropout = torch.nn.Dropout()\n",
    "        self.activator = torch.nn.ReLU()\n",
    "\n",
    "    def forward(self, x):\n",
    "        # Flatten images\n",
    "        # x = x.view(x.size(0), -1)\n",
    "        \n",
    "        inp = self.dropout(self.activator(self.pooling(self.in_layer(x))))\n",
    "        h1 = self.dropout(self.activator(self.pooling(self.h1_layer(inp))))\n",
    "        \n",
    "        # vectorise image\n",
    "        h1 = h1.view(h1.size(0), -1)\n",
    "        y = self.activator(self.h2_layer(h1))\n",
    "\n",
    "        return y\n",
    "    \n",
    "    def save_parameters(self, path: str):\n",
    "        torch.save(self.in_layer, path + \"0.pt\")\n",
    "        torch.save(self.h1_layer, path + \"1.pt\")\n",
    "        torch.save(self.h2_layer, path + \"2.pt\")\n",
    "\n",
    "    def load_parameters(self, path: str):\n",
    "        self.in_layer = torch.load(path + \"0.pt\", weights_only=False)\n",
    "        self.h1_layer = torch.load(path + \"1.pt\", weights_only=False)\n",
    "        self.h2_layer = torch.load(path + \"2.pt\", weights_only=False)"
   ]
  },
  {
   "cell_type": "code",
   "execution_count": 9,
   "metadata": {},
   "outputs": [
    {
     "data": {
      "text/plain": [
       "Conv_Net(\n",
       "  (in_layer): Conv2d(1, 12, kernel_size=(5, 5), stride=(1, 1), bias=False)\n",
       "  (h1_layer): Conv2d(12, 64, kernel_size=(5, 5), stride=(1, 1), bias=False)\n",
       "  (h2_layer): Linear(in_features=1024, out_features=10, bias=False)\n",
       "  (pooling): AvgPool2d(kernel_size=2, stride=2, padding=0)\n",
       "  (dropout): Dropout(p=0.5, inplace=False)\n",
       "  (activator): ReLU()\n",
       ")"
      ]
     },
     "execution_count": 9,
     "metadata": {},
     "output_type": "execute_result"
    }
   ],
   "source": [
    "def init_weights(m):\n",
    "    if isinstance(m, torch.nn.Linear) or isinstance(m, torch.nn.Conv2d):\n",
    "        torch.nn.init.uniform_(m.weight, -0.1, 0.1)\n",
    "\n",
    "conv_net = Conv_Net(1, [12, 64], [1024, 10]).to(device)\n",
    "conv_net.apply(init_weights)\n",
    "optimiser = torch.optim.Adam(conv_net.parameters())\n",
    "\n",
    "# optimiser used in the original paper seems to kill the gradients, so we're just going to use adam\n",
    "# optimiser = torch.optim.SGD(conv_net.parameters(), lr=.01, momentum=0.5)\n",
    "\n",
    "conv_net.train()"
   ]
  },
  {
   "cell_type": "code",
   "execution_count": 10,
   "metadata": {},
   "outputs": [
    {
     "name": "stdout",
     "output_type": "stream",
     "text": [
      "Epoch [1/15], Step [100/600], Loss: 0.7449\n",
      "Epoch [1/15], Step [200/600], Loss: 0.5508\n",
      "Epoch [1/15], Step [300/600], Loss: 0.3478\n",
      "Epoch [1/15], Step [400/600], Loss: 0.3962\n",
      "Epoch [1/15], Step [500/600], Loss: 0.3962\n",
      "Epoch [1/15], Step [600/600], Loss: 0.1065\n",
      "Epoch [2/15], Step [100/600], Loss: 0.3321\n",
      "Epoch [2/15], Step [200/600], Loss: 0.1846\n",
      "Epoch [2/15], Step [300/600], Loss: 0.2293\n",
      "Epoch [2/15], Step [400/600], Loss: 0.2776\n",
      "Epoch [2/15], Step [500/600], Loss: 0.1158\n",
      "Epoch [2/15], Step [600/600], Loss: 0.1491\n",
      "Epoch [3/15], Step [100/600], Loss: 0.1828\n",
      "Epoch [3/15], Step [200/600], Loss: 0.1167\n",
      "Epoch [3/15], Step [300/600], Loss: 0.0789\n",
      "Epoch [3/15], Step [400/600], Loss: 0.1116\n",
      "Epoch [3/15], Step [500/600], Loss: 0.1525\n",
      "Epoch [3/15], Step [600/600], Loss: 0.1324\n",
      "Epoch [4/15], Step [100/600], Loss: 0.1401\n",
      "Epoch [4/15], Step [200/600], Loss: 0.0405\n",
      "Epoch [4/15], Step [300/600], Loss: 0.1163\n",
      "Epoch [4/15], Step [400/600], Loss: 0.2690\n",
      "Epoch [4/15], Step [500/600], Loss: 0.1170\n",
      "Epoch [4/15], Step [600/600], Loss: 0.1716\n",
      "Epoch [5/15], Step [100/600], Loss: 0.1867\n",
      "Epoch [5/15], Step [200/600], Loss: 0.1116\n",
      "Epoch [5/15], Step [300/600], Loss: 0.1107\n",
      "Epoch [5/15], Step [400/600], Loss: 0.0404\n",
      "Epoch [5/15], Step [500/600], Loss: 0.1123\n",
      "Epoch [5/15], Step [600/600], Loss: 0.0615\n",
      "Epoch [6/15], Step [100/600], Loss: 0.0732\n",
      "Epoch [6/15], Step [200/600], Loss: 0.1268\n",
      "Epoch [6/15], Step [300/600], Loss: 0.1041\n",
      "Epoch [6/15], Step [400/600], Loss: 0.0797\n",
      "Epoch [6/15], Step [500/600], Loss: 0.1861\n",
      "Epoch [6/15], Step [600/600], Loss: 0.1969\n",
      "Epoch [7/15], Step [100/600], Loss: 0.0909\n",
      "Epoch [7/15], Step [200/600], Loss: 0.0326\n",
      "Epoch [7/15], Step [300/600], Loss: 0.0586\n",
      "Epoch [7/15], Step [400/600], Loss: 0.0260\n",
      "Epoch [7/15], Step [500/600], Loss: 0.0626\n",
      "Epoch [7/15], Step [600/600], Loss: 0.0916\n",
      "Epoch [8/15], Step [100/600], Loss: 0.1668\n",
      "Epoch [8/15], Step [200/600], Loss: 0.0300\n",
      "Epoch [8/15], Step [300/600], Loss: 0.0782\n",
      "Epoch [8/15], Step [400/600], Loss: 0.1449\n",
      "Epoch [8/15], Step [500/600], Loss: 0.1828\n",
      "Epoch [8/15], Step [600/600], Loss: 0.1318\n",
      "Epoch [9/15], Step [100/600], Loss: 0.0428\n",
      "Epoch [9/15], Step [200/600], Loss: 0.0881\n",
      "Epoch [9/15], Step [300/600], Loss: 0.1076\n",
      "Epoch [9/15], Step [400/600], Loss: 0.0664\n",
      "Epoch [9/15], Step [500/600], Loss: 0.0674\n",
      "Epoch [9/15], Step [600/600], Loss: 0.0475\n",
      "Epoch [10/15], Step [100/600], Loss: 0.0873\n",
      "Epoch [10/15], Step [200/600], Loss: 0.0513\n",
      "Epoch [10/15], Step [300/600], Loss: 0.1293\n",
      "Epoch [10/15], Step [400/600], Loss: 0.1001\n",
      "Epoch [10/15], Step [500/600], Loss: 0.2240\n",
      "Epoch [10/15], Step [600/600], Loss: 0.0897\n",
      "Epoch [11/15], Step [100/600], Loss: 0.0229\n",
      "Epoch [11/15], Step [200/600], Loss: 0.0361\n",
      "Epoch [11/15], Step [300/600], Loss: 0.0608\n",
      "Epoch [11/15], Step [400/600], Loss: 0.0931\n",
      "Epoch [11/15], Step [500/600], Loss: 0.1019\n",
      "Epoch [11/15], Step [600/600], Loss: 0.0702\n",
      "Epoch [12/15], Step [100/600], Loss: 0.0786\n",
      "Epoch [12/15], Step [200/600], Loss: 0.0902\n",
      "Epoch [12/15], Step [300/600], Loss: 0.0412\n",
      "Epoch [12/15], Step [400/600], Loss: 0.0598\n",
      "Epoch [12/15], Step [500/600], Loss: 0.0750\n",
      "Epoch [12/15], Step [600/600], Loss: 0.2005\n",
      "Epoch [13/15], Step [100/600], Loss: 0.1142\n",
      "Epoch [13/15], Step [200/600], Loss: 0.1709\n",
      "Epoch [13/15], Step [300/600], Loss: 0.0678\n",
      "Epoch [13/15], Step [400/600], Loss: 0.1150\n",
      "Epoch [13/15], Step [500/600], Loss: 0.0961\n",
      "Epoch [13/15], Step [600/600], Loss: 0.0571\n",
      "Epoch [14/15], Step [100/600], Loss: 0.0853\n",
      "Epoch [14/15], Step [200/600], Loss: 0.0540\n",
      "Epoch [14/15], Step [300/600], Loss: 0.0606\n",
      "Epoch [14/15], Step [400/600], Loss: 0.1261\n",
      "Epoch [14/15], Step [500/600], Loss: 0.0513\n",
      "Epoch [14/15], Step [600/600], Loss: 0.1259\n",
      "Epoch [15/15], Step [100/600], Loss: 0.0381\n",
      "Epoch [15/15], Step [200/600], Loss: 0.0372\n",
      "Epoch [15/15], Step [300/600], Loss: 0.0313\n",
      "Epoch [15/15], Step [400/600], Loss: 0.0392\n",
      "Epoch [15/15], Step [500/600], Loss: 0.1050\n",
      "Epoch [15/15], Step [600/600], Loss: 0.0924\n"
     ]
    }
   ],
   "source": [
    "# Training model\n",
    "num_epochs = 15\n",
    "for epoch in range(num_epochs):\n",
    "    # Go trough all samples in train dataset\n",
    "    for i, (images, labels) in enumerate(train_loader):\n",
    "        # Get from dataloader and send to device\n",
    "        images = images.to(device)\n",
    "        labels = labels.to(device)\n",
    "        # Forward pass\n",
    "        outputs = conv_net(images)\n",
    "        # Compute loss\n",
    "        loss = torch.nn.functional.cross_entropy(outputs, labels)\n",
    "        # Backward and optimize\n",
    "        optimiser.zero_grad()\n",
    "        loss.backward()\n",
    "        optimiser.step()\n",
    "        # Display\n",
    "        if (i+1) % 100 == 0:\n",
    "            print (f'Epoch [{epoch+1}/{num_epochs}], Step [{i+1}/{len(train_loader)}], Loss: {loss.item():.4f}')"
   ]
  },
  {
   "cell_type": "code",
   "execution_count": 11,
   "metadata": {},
   "outputs": [
    {
     "name": "stdout",
     "output_type": "stream",
     "text": [
      "Evaluation after training, test accuracy: 0.9894\n"
     ]
    }
   ],
   "source": [
    "# Evaluate model accuracy on test after training\n",
    "# Set model in eval mode!\n",
    "conv_net.eval()\n",
    "# Evaluate\n",
    "with torch.no_grad():\n",
    "    correct = 0\n",
    "    total = 0\n",
    "    for images, labels in test_loader:\n",
    "        # Get images and labels from test loader\n",
    "        images = images.to(device)\n",
    "        labels = labels.to(device)\n",
    "        # Forward pass and predict class using max\n",
    "        outputs = conv_net(images)\n",
    "        _, predicted = torch.max(outputs.data, 1)\n",
    "        # Check if predicted class matches label\n",
    "        # and count number of correct predictions\n",
    "        total += labels.size(0)\n",
    "        correct += (predicted == labels).sum().item()\n",
    "# Compute final accuracy and display\n",
    "accuracy = correct/total\n",
    "print(f'Evaluation after training, test accuracy: {accuracy:.4f}')"
   ]
  },
  {
   "cell_type": "code",
   "execution_count": 12,
   "metadata": {},
   "outputs": [],
   "source": [
    "conv_net.save_parameters(\"params/conv\")"
   ]
  },
  {
   "cell_type": "markdown",
   "metadata": {},
   "source": [
    "## Convolutional Spiking Neural Network"
   ]
  },
  {
   "cell_type": "code",
   "execution_count": 3,
   "metadata": {},
   "outputs": [],
   "source": [
    "# to generate poisson spike trains\n",
    "def to_poisson_spikes(data, steps: int, max_rate: int=200):\n",
    "\n",
    "    # Rescale factor for Poisson distribution\n",
    "    rescale_factor = max_rate / steps\n",
    "    rand_vals = torch.rand(steps, *data.shape, device=data.device)\n",
    "\n",
    "    # Compare against intensity to generate spikes\n",
    "    spikes = (rand_vals < data * rescale_factor).float()\n",
    "    \n",
    "    return spikes\n",
    "\n",
    "# fully connected neural network\n",
    "class Conv_SNN(torch.nn.Module):\n",
    "    def __init__(self, n_x: int, n_h: list, n_y: list, kernel_size: int=5, beta: float=0, threshold: float=1, steps: int=100, rate: int=200):\n",
    "        super().__init__()\n",
    "\n",
    "        self.in_layer = torch.nn.Conv2d(n_x, n_h[0], kernel_size, bias=False)\n",
    "        self.h1_layer = torch.nn.Conv2d(n_h[0], n_h[1], kernel_size, bias=False)\n",
    "        self.h2_layer = torch.nn.Linear(n_y[0], n_y[1], bias=False)\n",
    "        self.pooling = torch.nn.AvgPool2d(2)\n",
    "        self.in_active = snn.Leaky(beta=beta, threshold=threshold)\n",
    "        self.h1_active = snn.Leaky(beta=beta, threshold=threshold)\n",
    "        self.h2_active = snn.Leaky(beta=beta, threshold=threshold)\n",
    "\n",
    "        self.steps = steps\n",
    "        self.rate = rate\n",
    "\n",
    "    def forward(self, x):\n",
    "        # Flatten images\n",
    "        # x = x.view(x.size(0), -1)\n",
    "        x = to_poisson_spikes(x, self.steps, self.rate)\n",
    "        # x = snn.spikegen.rate(x, self.steps)\n",
    "\n",
    "        memin = self.in_active.reset_mem()\n",
    "        memh1 = self.h1_active.reset_mem()\n",
    "        memh2 = self.h2_active.reset_mem()\n",
    "\n",
    "        out_spikes = []\n",
    "        memh2_mem = []\n",
    "\n",
    "        for step in x:\n",
    "            curin = self.pooling(self.in_layer(step))\n",
    "            spkin, memin = self.in_active(curin, memin)\n",
    "            curh1 = self.pooling(self.h1_layer(spkin))\n",
    "            spkh1, memh1 = self.h1_active(curh1, memh1)\n",
    "\n",
    "            # vectorise spike image\n",
    "            spkh1 = spkh1.view(spkh1.size(0), -1)\n",
    "            \n",
    "            curh2 = self.h2_layer(spkh1)\n",
    "            spkh2, memh2 = self.h2_active(curh2, memh2)\n",
    "\n",
    "            out_spikes.append(spkh2)\n",
    "            memh2_mem.append(memh2)\n",
    "\n",
    "        return torch.stack(out_spikes), torch.stack(memh2_mem)\n",
    "\n",
    "    def save_parameters(self, path: str):\n",
    "        torch.save(self.in_layer, path + \"0.pt\")\n",
    "        torch.save(self.h1_layer, path + \"1.pt\")\n",
    "        torch.save(self.h2_layer, path + \"2.pt\")\n",
    "\n",
    "    def load_parameters(self, path: str):\n",
    "        self.in_layer = torch.load(path + \"0.pt\", weights_only=False)\n",
    "        self.h1_layer = torch.load(path + \"1.pt\", weights_only=False)\n",
    "        self.h2_layer = torch.load(path + \"2.pt\", weights_only=False)"
   ]
  },
  {
   "cell_type": "code",
   "execution_count": 19,
   "metadata": {},
   "outputs": [
    {
     "data": {
      "text/plain": [
       "Conv_SNN(\n",
       "  (in_layer): Conv2d(1, 12, kernel_size=(5, 5), stride=(1, 1), bias=False)\n",
       "  (h1_layer): Conv2d(12, 64, kernel_size=(5, 5), stride=(1, 1), bias=False)\n",
       "  (h2_layer): Linear(in_features=1024, out_features=10, bias=False)\n",
       "  (pooling): AvgPool2d(kernel_size=2, stride=2, padding=0)\n",
       "  (in_active): Leaky()\n",
       "  (h1_active): Leaky()\n",
       "  (h2_active): Leaky()\n",
       ")"
      ]
     },
     "execution_count": 19,
     "metadata": {},
     "output_type": "execute_result"
    }
   ],
   "source": [
    "step_count = 200\n",
    "conv_snn = Conv_SNN(1, [12, 64], [1024, 10], 5, beta=1, threshold=4, steps=step_count, rate=400).to(device)\n",
    "conv_snn.load_parameters(\"params/conv\")\n",
    "conv_snn.eval()"
   ]
  },
  {
   "cell_type": "code",
   "execution_count": 20,
   "metadata": {},
   "outputs": [
    {
     "name": "stdout",
     "output_type": "stream",
     "text": [
      "Evaluation after training, test accuracy: 0.9885\n"
     ]
    }
   ],
   "source": [
    "with torch.no_grad():\n",
    "    total = 0\n",
    "    correct = 0\n",
    "    for images, labels in test_loader:\n",
    "        images = images.to(device)\n",
    "        labels = labels.to(device)\n",
    "        spk_out, _ = conv_snn(images)\n",
    "\n",
    "        correct += SF.accuracy_rate(spk_out, labels) * spk_out.size(1)\n",
    "        total += spk_out.size(1)\n",
    "\n",
    "accuracy = correct/total\n",
    "print(f'Evaluation after training, test accuracy: {accuracy:.4f}')"
   ]
  },
  {
   "cell_type": "markdown",
   "metadata": {},
   "source": [
    "## Convolutional Neural Network Model Normalisation"
   ]
  },
  {
   "cell_type": "code",
   "execution_count": 4,
   "metadata": {},
   "outputs": [],
   "source": [
    "def model_norm(model: torch.nn.Module, include_last: bool = False):\n",
    "    \"\"\"\n",
    "    takes any pytorch module or network and does model normalisation across all layers.\n",
    "    by default, the last layer is not normalised.\n",
    "    \"\"\"\n",
    "    param_geny = (param for param in model.parameters() if param.requires_grad)\n",
    "    param_list = list(param_geny)\n",
    "    param_geny = iter(param_list)  # reset generator\n",
    "\n",
    "    param_count = len(param_list)\n",
    "    layers = param_count if include_last else param_count - 1\n",
    "    layer_scales = []\n",
    "\n",
    "    for _ in range(layers):\n",
    "        neurons = next(param_geny)\n",
    "        max_pos_in = 0\n",
    "\n",
    "        if neurons.dim() >= 2:  # if layer is linear/conv\n",
    "            for neuron in neurons:\n",
    "                # sum over input channels\n",
    "                input_sum = torch.sum(torch.clamp(neuron, min=0))\n",
    "                max_pos_in = max(max_pos_in, input_sum.item())\n",
    "\n",
    "        if max_pos_in > 0:\n",
    "            neurons.data /= max_pos_in  # as in fc net\n",
    "\n",
    "        layer_scales.append(max_pos_in)\n",
    "\n",
    "    return layer_scales"
   ]
  },
  {
   "cell_type": "code",
   "execution_count": 6,
   "metadata": {},
   "outputs": [
    {
     "name": "stdout",
     "output_type": "stream",
     "text": [
      "[3.0468525886535645, 17.50514030456543]\n"
     ]
    }
   ],
   "source": [
    "# to load and rescale from scratch\n",
    "step_count = 200\n",
    "conv_snn = Conv_SNN(1, [12, 64], [1024, 10], 5, beta=1).to(device)\n",
    "conv_snn.load_parameters(\"params/conv\")\n",
    "conv_snn.eval()\n",
    "\n",
    "scaling_factors = model_norm(conv_snn, False)\n",
    "print(scaling_factors)\n",
    "conv_snn.save_parameters(\"params/conv_model_norm\")"
   ]
  },
  {
   "cell_type": "code",
   "execution_count": 21,
   "metadata": {},
   "outputs": [
    {
     "data": {
      "text/plain": [
       "Conv_SNN(\n",
       "  (in_layer): Conv2d(1, 12, kernel_size=(5, 5), stride=(1, 1), bias=False)\n",
       "  (h1_layer): Conv2d(12, 64, kernel_size=(5, 5), stride=(1, 1), bias=False)\n",
       "  (h2_layer): Linear(in_features=1024, out_features=10, bias=False)\n",
       "  (pooling): AvgPool2d(kernel_size=2, stride=2, padding=0)\n",
       "  (in_active): Leaky()\n",
       "  (h1_active): Leaky()\n",
       "  (h2_active): Leaky()\n",
       ")"
      ]
     },
     "execution_count": 21,
     "metadata": {},
     "output_type": "execute_result"
    }
   ],
   "source": [
    "# to load rescaled weights from file\n",
    "max_rate = 500\n",
    "threshold = 1\n",
    "simulation_time = 0.5\n",
    "\n",
    "conv_snn = Conv_SNN(1, [12, 64], [1024, 10], 5, beta=1, threshold=threshold, steps=int(max_rate * simulation_time), rate=max_rate).to(device)\n",
    "conv_snn.load_parameters(\"params/conv_model_norm\")\n",
    "conv_snn.eval()"
   ]
  },
  {
   "cell_type": "code",
   "execution_count": 13,
   "metadata": {},
   "outputs": [
    {
     "name": "stdout",
     "output_type": "stream",
     "text": [
      "Evaluation after training, test accuracy: 0.9882\n"
     ]
    }
   ],
   "source": [
    "with torch.no_grad():\n",
    "    total = 0\n",
    "    correct = 0\n",
    "    for images, labels in test_loader:\n",
    "        images = images.to(device)\n",
    "        labels = labels.to(device)\n",
    "        spk_out, _ = conv_snn(images)\n",
    "\n",
    "        correct += SF.accuracy_rate(spk_out, labels) * spk_out.size(1)\n",
    "        total += spk_out.size(1)\n",
    "\n",
    "accuracy = correct/total\n",
    "print(f'Evaluation after training, test accuracy: {accuracy:.4f}')"
   ]
  },
  {
   "cell_type": "markdown",
   "metadata": {},
   "source": [
    "## Convolutional Neural Network Data Normalisation"
   ]
  },
  {
   "cell_type": "code",
   "execution_count": 4,
   "metadata": {},
   "outputs": [],
   "source": [
    "# counting cnn for data normalisation\n",
    "class Conv_Count_Net(torch.nn.Module):\n",
    "    def __init__(self, n_x: int, n_h: list, n_y: list, kernel_size: int=5, image_size: list=(28, 28)):\n",
    "        super().__init__()\n",
    "\n",
    "        self.in_layer = torch.nn.Conv2d(n_x, n_h[0], kernel_size, bias=False)\n",
    "        self.h1_layer = torch.nn.Conv2d(n_h[0], n_h[1], kernel_size, bias=False)\n",
    "        self.h2_layer = torch.nn.Linear(n_y[0], n_y[1], bias=False)\n",
    "        self.pooling = torch.nn.AvgPool2d(2)\n",
    "        self.activator = torch.nn.ReLU()\n",
    "\n",
    "        # to store maximum activations\n",
    "        size_in_x = (image_size[0] - kernel_size + 1) // 2\n",
    "        size_in_y = (image_size[1] - kernel_size + 1) // 2\n",
    "        self.maxin_act = torch.zeros([n_h[0], size_in_x, size_in_y])\n",
    "        size_h1_x = (size_in_x - kernel_size + 1) // 2\n",
    "        size_h1_y = (size_in_y - kernel_size + 1) // 2\n",
    "        self.maxh1_act = torch.zeros([n_h[1], size_h1_x, size_h1_y])\n",
    "        self.maxh2_act = torch.zeros([n_y[1]])\n",
    "\n",
    "    def forward(self, x):\n",
    "        \n",
    "        inp = self.activator(self.pooling(self.in_layer(x)))\n",
    "        self.maxin_act = torch.maximum(self.maxin_act, inp)\n",
    "        h1 = self.activator(self.pooling(self.h1_layer(inp)))\n",
    "        self.maxh1_act = torch.maximum(self.maxh1_act, h1)\n",
    "        \n",
    "        # vectorise image\n",
    "        h1 = h1.view(h1.size(0), -1)\n",
    "        y = self.activator(self.h2_layer(h1))\n",
    "        self.maxh2_act = torch.maximum(self.maxh2_act, y)\n",
    "\n",
    "        return y\n",
    "    \n",
    "    def save_parameters(self, path: str):\n",
    "        torch.save(self.in_layer, path + \"0.pt\")\n",
    "        torch.save(self.h1_layer, path + \"1.pt\")\n",
    "        torch.save(self.h2_layer, path + \"2.pt\")\n",
    "\n",
    "    def load_parameters(self, path: str):\n",
    "        self.in_layer = torch.load(path + \"0.pt\", weights_only=False)\n",
    "        self.h1_layer = torch.load(path + \"1.pt\", weights_only=False)\n",
    "        self.h2_layer = torch.load(path + \"2.pt\", weights_only=False)"
   ]
  },
  {
   "cell_type": "code",
   "execution_count": 5,
   "metadata": {},
   "outputs": [],
   "source": [
    "# get maximum neuron activations\n",
    "count_loader = torch.utils.data.DataLoader(train_dataset, batch_size = 1, shuffle = False)\n",
    "conv_count_net = Conv_Count_Net(1, [12, 64], [1024, 10], 5).to(device)\n",
    "conv_count_net.load_parameters(\"params/conv\")\n",
    "conv_count_net.eval()\n",
    "\n",
    "with torch.no_grad():\n",
    "\n",
    "    for images, labels in count_loader:\n",
    "\n",
    "        images = images.to(device)\n",
    "        labels = labels.to(device)\n",
    "\n",
    "        _ = conv_count_net(images)\n",
    "\n",
    "max_activations = [torch.max(conv_count_net.maxin_act), torch.max(conv_count_net.maxh1_act), torch.max(conv_count_net.maxh2_act)]"
   ]
  },
  {
   "cell_type": "code",
   "execution_count": 13,
   "metadata": {},
   "outputs": [],
   "source": [
    "# algorithm for data normalisation\n",
    "def data_norm(model: torch.nn.Module, activations: list[torch.Tensor], include_last: bool=True):\n",
    "    \"\"\"\n",
    "    takes a pytorch module or network and does data normalisation.\n",
    "    requires the list of maximum activations from each layer.\n",
    "    unlike model normalisation, also normalises the last layer by default.\n",
    "    \"\"\"\n",
    "    param_geny = (param for param in model.parameters() if param.requires_grad)\n",
    "    param_list = list(param_geny)\n",
    "    param_geny = iter(param_list)  # reset generator\n",
    "\n",
    "    param_count = len(param_list)\n",
    "    layers = param_count if include_last else param_count - 1\n",
    "    layer_scales = []\n",
    "\n",
    "    previous_factor = 1\n",
    "\n",
    "    for i in range(layers):\n",
    "        neurons = next(param_geny)\n",
    "        max_weight = 0\n",
    "\n",
    "        if neurons.dim() >= 2:\n",
    "\n",
    "            for neuron in neurons:\n",
    "                # grab maximum single weight across input connections\n",
    "                max_weight = max(max_weight, torch.max(neuron))\n",
    "\n",
    "        if max_weight > 0:\n",
    "            print(activations[i])\n",
    "            scale_factor = max(max_weight, activations[i])\n",
    "            applied_factor = scale_factor / previous_factor\n",
    "\n",
    "        # rescale all weights wrt applied factor\n",
    "        neurons.data = neurons / applied_factor # without .data this becomes out-of-place for some reason\n",
    "        previous_factor = scale_factor\n",
    "        layer_scales.append(applied_factor)\n",
    "    \n",
    "    return layer_scales"
   ]
  },
  {
   "cell_type": "code",
   "execution_count": 14,
   "metadata": {},
   "outputs": [
    {
     "name": "stdout",
     "output_type": "stream",
     "text": [
      "torch.Size([1, 64, 4, 4])\n"
     ]
    }
   ],
   "source": [
    "print(conv_count_net.maxh1_act.size())"
   ]
  },
  {
   "cell_type": "code",
   "execution_count": 16,
   "metadata": {},
   "outputs": [
    {
     "name": "stdout",
     "output_type": "stream",
     "text": [
      "tensor(2.0191)\n",
      "tensor(5.0003)\n",
      "tensor(27.3178)\n",
      "[tensor(2.0191), tensor(2.4765), tensor(5.4632)]\n"
     ]
    }
   ],
   "source": [
    "# to load and rescale from scratch\n",
    "conv_snn = Conv_SNN(1, [12, 64], [1024, 10], 5, beta=1).to(device)\n",
    "conv_snn.load_parameters(\"params/conv\")\n",
    "conv_snn.eval()\n",
    "\n",
    "scaling_factors = data_norm(conv_snn, max_activations)\n",
    "print(scaling_factors)\n",
    "conv_snn.save_parameters(\"params/conv_data_norm\")"
   ]
  },
  {
   "cell_type": "code",
   "execution_count": 26,
   "metadata": {},
   "outputs": [
    {
     "data": {
      "text/plain": [
       "Conv_SNN(\n",
       "  (in_layer): Conv2d(1, 12, kernel_size=(5, 5), stride=(1, 1), bias=False)\n",
       "  (h1_layer): Conv2d(12, 64, kernel_size=(5, 5), stride=(1, 1), bias=False)\n",
       "  (h2_layer): Linear(in_features=1024, out_features=10, bias=False)\n",
       "  (pooling): AvgPool2d(kernel_size=2, stride=2, padding=0)\n",
       "  (in_active): Leaky()\n",
       "  (h1_active): Leaky()\n",
       "  (h2_active): Leaky()\n",
       ")"
      ]
     },
     "execution_count": 26,
     "metadata": {},
     "output_type": "execute_result"
    }
   ],
   "source": [
    "# to load rescaled weights from file\n",
    "max_rate = 400\n",
    "threshold = 1\n",
    "simulation_time = 0.5\n",
    "\n",
    "conv_snn = Conv_SNN(1, [12, 64], [1024, 10], 5, beta=1, threshold=threshold, steps=int(max_rate * simulation_time), rate=max_rate).to(device)\n",
    "conv_snn.load_parameters(\"params/conv_data_norm\")\n",
    "conv_snn.eval()"
   ]
  },
  {
   "cell_type": "code",
   "execution_count": 18,
   "metadata": {},
   "outputs": [
    {
     "name": "stdout",
     "output_type": "stream",
     "text": [
      "Evaluation after training, test accuracy: 0.9881\n"
     ]
    }
   ],
   "source": [
    "with torch.no_grad():\n",
    "    total = 0\n",
    "    correct = 0\n",
    "    for images, labels in test_loader:\n",
    "        images = images.to(device)\n",
    "        labels = labels.to(device)\n",
    "        spk_out, _ = conv_snn(images)\n",
    "\n",
    "        correct += SF.accuracy_rate(spk_out, labels) * spk_out.size(1)\n",
    "        total += spk_out.size(1)\n",
    "\n",
    "accuracy = correct/total\n",
    "print(f'Evaluation after training, test accuracy: {accuracy:.4f}')"
   ]
  }
 ],
 "metadata": {
  "kernelspec": {
   "display_name": "bic_team",
   "language": "python",
   "name": "python3"
  },
  "language_info": {
   "codemirror_mode": {
    "name": "ipython",
    "version": 3
   },
   "file_extension": ".py",
   "mimetype": "text/x-python",
   "name": "python",
   "nbconvert_exporter": "python",
   "pygments_lexer": "ipython3",
   "version": "3.13.1"
  }
 },
 "nbformat": 4,
 "nbformat_minor": 2
}
