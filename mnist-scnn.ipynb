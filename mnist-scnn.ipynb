{
 "cells": [
  {
   "cell_type": "markdown",
   "metadata": {},
   "source": [
    "# SNN Weight & Threshold Balancing - Convolutional\n",
    "\n",
    "The code for training, transferring, and normalising the weights of a convolutional ReLU network to a spiking convolutional neural network."
   ]
  },
  {
   "cell_type": "code",
   "execution_count": 1,
   "metadata": {},
   "outputs": [
    {
     "name": "stdout",
     "output_type": "stream",
     "text": [
      "cpu\n"
     ]
    }
   ],
   "source": [
    "import torch\n",
    "from torchvision.transforms import ToTensor\n",
    "from torchvision.datasets import MNIST\n",
    "\n",
    "import snntorch as snn\n",
    "import snntorch.functional as SF\n",
    "\n",
    "from spike_nets import Conv_Net, Conv_SNN, Conv_Count_Net\n",
    "from norms import model_norm, data_norm\n",
    "\n",
    "device = torch.device(\"cuda\" if torch.cuda.is_available() else \"cpu\")\n",
    "print(device)"
   ]
  },
  {
   "cell_type": "code",
   "execution_count": 2,
   "metadata": {},
   "outputs": [
    {
     "name": "stdout",
     "output_type": "stream",
     "text": [
      "60000 10000\n"
     ]
    }
   ],
   "source": [
    "# data alread 0-1 normalised, simply convert to tensor\n",
    "transform_data = ToTensor()\n",
    "\n",
    "# load the MNIST dataset\n",
    "batch_size = 100\n",
    "train_dataset = MNIST(root = './mnist/', train = True, download = True, transform=transform_data)\n",
    "test_dataset = MNIST(root = './mnist/', train = False, download = True, transform=transform_data)\n",
    "train_loader = torch.utils.data.DataLoader(train_dataset, batch_size = batch_size, shuffle = True)\n",
    "test_loader = torch.utils.data.DataLoader(test_dataset, batch_size = batch_size, shuffle = False)\n",
    "print(len(train_dataset), len(test_dataset))"
   ]
  },
  {
   "cell_type": "markdown",
   "metadata": {},
   "source": [
    "## Convolutional ReLU Neural Network\n",
    "\n",
    "Code to train the basic CNN with ReLU activators."
   ]
  },
  {
   "cell_type": "code",
   "execution_count": 9,
   "metadata": {},
   "outputs": [
    {
     "data": {
      "text/plain": [
       "Conv_Net(\n",
       "  (in_layer): Conv2d(1, 12, kernel_size=(5, 5), stride=(1, 1), bias=False)\n",
       "  (h1_layer): Conv2d(12, 64, kernel_size=(5, 5), stride=(1, 1), bias=False)\n",
       "  (h2_layer): Linear(in_features=1024, out_features=10, bias=False)\n",
       "  (pooling): AvgPool2d(kernel_size=2, stride=2, padding=0)\n",
       "  (dropout): Dropout(p=0.5, inplace=False)\n",
       "  (activator): ReLU()\n",
       ")"
      ]
     },
     "execution_count": 9,
     "metadata": {},
     "output_type": "execute_result"
    }
   ],
   "source": [
    "# initialise weights and optimiser\n",
    "def init_weights(m):\n",
    "    if isinstance(m, torch.nn.Linear) or isinstance(m, torch.nn.Conv2d):\n",
    "        torch.nn.init.uniform_(m.weight, -0.1, 0.1)\n",
    "\n",
    "conv_net = Conv_Net(1, [12, 64], [1024, 10]).to(device)\n",
    "conv_net.apply(init_weights)\n",
    "optimiser = torch.optim.Adam(conv_net.parameters())\n",
    "\n",
    "conv_net.train()"
   ]
  },
  {
   "cell_type": "code",
   "execution_count": null,
   "metadata": {},
   "outputs": [],
   "source": [
    "# training the model\n",
    "num_epochs = 15\n",
    "for epoch in range(num_epochs):\n",
    "\n",
    "    for i, (images, labels) in enumerate(train_loader):\n",
    "        # get data from dataloader and send to device\n",
    "        images = images.to(device)\n",
    "        labels = labels.to(device)\n",
    "\n",
    "        # forward pass\n",
    "        outputs = conv_net(images)\n",
    "        loss = torch.nn.functional.cross_entropy(outputs, labels)\n",
    "\n",
    "        # backward pass and optimize\n",
    "        optimiser.zero_grad()\n",
    "        loss.backward()\n",
    "        optimiser.step()\n",
    "\n",
    "        if (i+1) % 100 == 0:\n",
    "            print (f'Epoch [{epoch+1}/{num_epochs}], Step [{i+1}/{len(train_loader)}], Loss: {loss.item():.4f}')"
   ]
  },
  {
   "cell_type": "code",
   "execution_count": 11,
   "metadata": {},
   "outputs": [
    {
     "name": "stdout",
     "output_type": "stream",
     "text": [
      "Evaluation after training, test accuracy: 0.9894\n"
     ]
    }
   ],
   "source": [
    "# model evaluation on test set\n",
    "conv_net.eval()\n",
    "\n",
    "with torch.no_grad():\n",
    "    correct = 0\n",
    "    total = 0\n",
    "    for images, labels in test_loader:\n",
    "\n",
    "        images = images.to(device)\n",
    "        labels = labels.to(device)\n",
    "\n",
    "        # forward pass and predict using max()\n",
    "        outputs = conv_net(images)\n",
    "        _, predicted = torch.max(outputs.data, 1)\n",
    "        \n",
    "        # check prediction against ground truth\n",
    "        total += labels.size(0)\n",
    "        correct += (predicted == labels).sum().item()\n",
    "\n",
    "# compute final accuracy\n",
    "accuracy = correct/total\n",
    "print(f'Evaluation after training, test accuracy: {accuracy:.4f}')"
   ]
  },
  {
   "cell_type": "code",
   "execution_count": 12,
   "metadata": {},
   "outputs": [],
   "source": [
    "conv_net.save_parameters(\"params/conv\")"
   ]
  },
  {
   "cell_type": "markdown",
   "metadata": {},
   "source": [
    "## Convolutional Spiking Neural Network"
   ]
  },
  {
   "cell_type": "code",
   "execution_count": 19,
   "metadata": {},
   "outputs": [
    {
     "data": {
      "text/plain": [
       "Conv_SNN(\n",
       "  (in_layer): Conv2d(1, 12, kernel_size=(5, 5), stride=(1, 1), bias=False)\n",
       "  (h1_layer): Conv2d(12, 64, kernel_size=(5, 5), stride=(1, 1), bias=False)\n",
       "  (h2_layer): Linear(in_features=1024, out_features=10, bias=False)\n",
       "  (pooling): AvgPool2d(kernel_size=2, stride=2, padding=0)\n",
       "  (in_active): Leaky()\n",
       "  (h1_active): Leaky()\n",
       "  (h2_active): Leaky()\n",
       ")"
      ]
     },
     "execution_count": 19,
     "metadata": {},
     "output_type": "execute_result"
    }
   ],
   "source": [
    "step_count = 200\n",
    "conv_snn = Conv_SNN(1, [12, 64], [1024, 10], 5, beta=1, threshold=4, steps=step_count, rate=400).to(device)\n",
    "conv_snn.load_parameters(\"params/conv\")\n",
    "conv_snn.eval()"
   ]
  },
  {
   "cell_type": "code",
   "execution_count": 20,
   "metadata": {},
   "outputs": [
    {
     "name": "stdout",
     "output_type": "stream",
     "text": [
      "Evaluation after training, test accuracy: 0.9885\n"
     ]
    }
   ],
   "source": [
    "with torch.no_grad():\n",
    "    total = 0\n",
    "    correct = 0\n",
    "    for images, labels in test_loader:\n",
    "        images = images.to(device)\n",
    "        labels = labels.to(device)\n",
    "        spk_out, _ = conv_snn(images)\n",
    "\n",
    "        correct += SF.accuracy_rate(spk_out, labels) * spk_out.size(1)\n",
    "        total += spk_out.size(1)\n",
    "\n",
    "accuracy = correct/total\n",
    "print(f'Evaluation after training, test accuracy: {accuracy:.4f}')"
   ]
  },
  {
   "cell_type": "markdown",
   "metadata": {},
   "source": [
    "## Convolutional Neural Network Model Normalisation"
   ]
  },
  {
   "cell_type": "code",
   "execution_count": 3,
   "metadata": {},
   "outputs": [
    {
     "name": "stdout",
     "output_type": "stream",
     "text": [
      "[3.0468525886535645, 17.50514030456543]\n"
     ]
    }
   ],
   "source": [
    "# to load and rescale from scratch\n",
    "step_count = 200\n",
    "conv_mn_snn = Conv_SNN(1, [12, 64], [1024, 10], 5, beta=1).to(device)\n",
    "conv_mn_snn.load_parameters(\"params/conv\")\n",
    "conv_mn_snn.eval()\n",
    "\n",
    "scaling_factors = model_norm(conv_mn_snn, False)\n",
    "print(scaling_factors)\n",
    "conv_mn_snn.save_parameters(\"params/conv_model_norm\")"
   ]
  },
  {
   "cell_type": "code",
   "execution_count": 21,
   "metadata": {},
   "outputs": [
    {
     "data": {
      "text/plain": [
       "Conv_SNN(\n",
       "  (in_layer): Conv2d(1, 12, kernel_size=(5, 5), stride=(1, 1), bias=False)\n",
       "  (h1_layer): Conv2d(12, 64, kernel_size=(5, 5), stride=(1, 1), bias=False)\n",
       "  (h2_layer): Linear(in_features=1024, out_features=10, bias=False)\n",
       "  (pooling): AvgPool2d(kernel_size=2, stride=2, padding=0)\n",
       "  (in_active): Leaky()\n",
       "  (h1_active): Leaky()\n",
       "  (h2_active): Leaky()\n",
       ")"
      ]
     },
     "execution_count": 21,
     "metadata": {},
     "output_type": "execute_result"
    }
   ],
   "source": [
    "# to load rescaled weights from file\n",
    "max_rate = 500\n",
    "threshold = 1\n",
    "simulation_time = 0.5\n",
    "\n",
    "conv_mn_snn = Conv_SNN(1, [12, 64], [1024, 10], 5, beta=1, threshold=threshold, steps=int(max_rate * simulation_time), rate=max_rate).to(device)\n",
    "conv_mn_snn.load_parameters(\"params/conv_model_norm\")\n",
    "conv_mn_snn.eval()"
   ]
  },
  {
   "cell_type": "code",
   "execution_count": 13,
   "metadata": {},
   "outputs": [
    {
     "name": "stdout",
     "output_type": "stream",
     "text": [
      "Evaluation after training, test accuracy: 0.9882\n"
     ]
    }
   ],
   "source": [
    "# evaluate model normalised model\n",
    "with torch.no_grad():\n",
    "    total = 0\n",
    "    correct = 0\n",
    "    for images, labels in test_loader:\n",
    "        images = images.to(device)\n",
    "        labels = labels.to(device)\n",
    "        spk_out, _ = conv_mn_snn(images)\n",
    "\n",
    "        correct += SF.accuracy_rate(spk_out, labels) * spk_out.size(1)\n",
    "        total += spk_out.size(1)\n",
    "\n",
    "accuracy = correct/total\n",
    "print(f'Evaluation after training, test accuracy: {accuracy:.4f}')"
   ]
  },
  {
   "cell_type": "markdown",
   "metadata": {},
   "source": [
    "## Convolutional Neural Network Data Normalisation"
   ]
  },
  {
   "cell_type": "code",
   "execution_count": 5,
   "metadata": {},
   "outputs": [],
   "source": [
    "# get maximum neuron activations\n",
    "count_loader = torch.utils.data.DataLoader(train_dataset, batch_size = 1, shuffle = False)\n",
    "conv_count_net = Conv_Count_Net(1, [12, 64], [1024, 10], 5).to(device)\n",
    "conv_count_net.load_parameters(\"params/conv\")\n",
    "conv_count_net.eval()\n",
    "\n",
    "with torch.no_grad():\n",
    "\n",
    "    for images, labels in count_loader:\n",
    "\n",
    "        images = images.to(device)\n",
    "        labels = labels.to(device)\n",
    "\n",
    "        _ = conv_count_net(images)\n",
    "\n",
    "max_activations = [torch.max(conv_count_net.maxin_act), torch.max(conv_count_net.maxh1_act), torch.max(conv_count_net.maxh2_act)]"
   ]
  },
  {
   "cell_type": "code",
   "execution_count": 16,
   "metadata": {},
   "outputs": [
    {
     "name": "stdout",
     "output_type": "stream",
     "text": [
      "tensor(2.0191)\n",
      "tensor(5.0003)\n",
      "tensor(27.3178)\n",
      "[tensor(2.0191), tensor(2.4765), tensor(5.4632)]\n"
     ]
    }
   ],
   "source": [
    "# to load and rescale from scratch\n",
    "conv_dn_snn = Conv_SNN(1, [12, 64], [1024, 10], 5, beta=1).to(device)\n",
    "conv_dn_snn.load_parameters(\"params/conv\")\n",
    "conv_dn_snn.eval()\n",
    "\n",
    "scaling_factors = data_norm(conv_dn_snn, max_activations)\n",
    "print(scaling_factors)\n",
    "conv_dn_snn.save_parameters(\"params/conv_data_norm\")"
   ]
  },
  {
   "cell_type": "code",
   "execution_count": 26,
   "metadata": {},
   "outputs": [
    {
     "data": {
      "text/plain": [
       "Conv_SNN(\n",
       "  (in_layer): Conv2d(1, 12, kernel_size=(5, 5), stride=(1, 1), bias=False)\n",
       "  (h1_layer): Conv2d(12, 64, kernel_size=(5, 5), stride=(1, 1), bias=False)\n",
       "  (h2_layer): Linear(in_features=1024, out_features=10, bias=False)\n",
       "  (pooling): AvgPool2d(kernel_size=2, stride=2, padding=0)\n",
       "  (in_active): Leaky()\n",
       "  (h1_active): Leaky()\n",
       "  (h2_active): Leaky()\n",
       ")"
      ]
     },
     "execution_count": 26,
     "metadata": {},
     "output_type": "execute_result"
    }
   ],
   "source": [
    "# to load rescaled weights from file\n",
    "max_rate = 400\n",
    "threshold = 1\n",
    "simulation_time = 0.5\n",
    "\n",
    "conv_dn_snn = Conv_SNN(1, [12, 64], [1024, 10], 5, beta=1, threshold=threshold, steps=int(max_rate * simulation_time), rate=max_rate).to(device)\n",
    "conv_dn_snn.load_parameters(\"params/conv_data_norm\")\n",
    "conv_dn_snn.eval()"
   ]
  },
  {
   "cell_type": "code",
   "execution_count": 18,
   "metadata": {},
   "outputs": [
    {
     "name": "stdout",
     "output_type": "stream",
     "text": [
      "Evaluation after training, test accuracy: 0.9881\n"
     ]
    }
   ],
   "source": [
    "# evaluate data normalised model\n",
    "with torch.no_grad():\n",
    "    total = 0\n",
    "    correct = 0\n",
    "    for images, labels in test_loader:\n",
    "        images = images.to(device)\n",
    "        labels = labels.to(device)\n",
    "        spk_out, _ = conv_dn_snn(images)\n",
    "\n",
    "        correct += SF.accuracy_rate(spk_out, labels) * spk_out.size(1)\n",
    "        total += spk_out.size(1)\n",
    "\n",
    "accuracy = correct/total\n",
    "print(f'Evaluation after training, test accuracy: {accuracy:.4f}')"
   ]
  }
 ],
 "metadata": {
  "kernelspec": {
   "display_name": "bic_team",
   "language": "python",
   "name": "python3"
  },
  "language_info": {
   "codemirror_mode": {
    "name": "ipython",
    "version": 3
   },
   "file_extension": ".py",
   "mimetype": "text/x-python",
   "name": "python",
   "nbconvert_exporter": "python",
   "pygments_lexer": "ipython3",
   "version": "3.13.1"
  }
 },
 "nbformat": 4,
 "nbformat_minor": 2
}
