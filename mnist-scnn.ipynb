{
 "cells": [
  {
   "cell_type": "markdown",
   "metadata": {},
   "source": [
    "# SNN Weight & Threshold Balancing - Convolutional"
   ]
  },
  {
   "cell_type": "code",
   "execution_count": 1,
   "metadata": {},
   "outputs": [
    {
     "name": "stdout",
     "output_type": "stream",
     "text": [
      "cpu\n"
     ]
    }
   ],
   "source": [
    "import torch\n",
    "from torchvision.transforms import ToTensor#, Compose, Normalize\n",
    "from torchvision.datasets import MNIST\n",
    "\n",
    "import snntorch as snn\n",
    "import snntorch.functional as SF\n",
    "\n",
    "device = torch.device(\"cuda\" if torch.cuda.is_available() else \"cpu\")\n",
    "print(device)"
   ]
  },
  {
   "cell_type": "code",
   "execution_count": 2,
   "metadata": {},
   "outputs": [],
   "source": [
    "# data alread 0-1 normalised, simply convert to tensor\n",
    "transform_data = ToTensor()\n",
    "\n",
    "# Load the data\n",
    "batch_size = 100\n",
    "train_dataset = MNIST(root = './mnist/', train = True, download = True, transform=transform_data)\n",
    "test_dataset = MNIST(root = './mnist/', train = False, download = True, transform=transform_data)\n",
    "train_loader = torch.utils.data.DataLoader(train_dataset, batch_size = batch_size, shuffle = True)\n",
    "test_loader = torch.utils.data.DataLoader(test_dataset, batch_size = batch_size, shuffle = False)"
   ]
  },
  {
   "cell_type": "markdown",
   "metadata": {},
   "source": [
    "## Convolutional ReLU Neural Network"
   ]
  },
  {
   "cell_type": "code",
   "execution_count": 6,
   "metadata": {},
   "outputs": [],
   "source": [
    "# convolutional neural network\n",
    "class Conv_Net(torch.nn.Module):\n",
    "    def __init__(self, n_x: int, n_h: list, n_y: list, kernel_size: int=5):\n",
    "        super().__init__()\n",
    "\n",
    "        self.in_layer = torch.nn.Conv2d(n_x, n_h[0], kernel_size, bias=False)\n",
    "        self.h1_layer = torch.nn.Conv2d(n_h[0], n_h[1], kernel_size, bias=False)\n",
    "        self.h2_layer = torch.nn.Linear(n_y[0], n_y[1], bias=False)\n",
    "        self.pooling = torch.nn.AvgPool2d(2)\n",
    "        self.dropout = torch.nn.Dropout()\n",
    "        self.activator = torch.nn.ReLU()\n",
    "\n",
    "    def forward(self, x):\n",
    "        # Flatten images\n",
    "        # x = x.view(x.size(0), -1)\n",
    "        \n",
    "        inp = self.dropout(self.activator(self.pooling(self.in_layer(x))))\n",
    "        h1 = self.dropout(self.activator(self.pooling(self.h1_layer(inp))))\n",
    "        \n",
    "        # vectorise image\n",
    "        h1 = h1.view(h1.size(0), -1)\n",
    "        y = self.activator(self.h2_layer(h1))\n",
    "\n",
    "        return y\n",
    "    \n",
    "    def save_parameters(self, path: str):\n",
    "        torch.save(self.in_layer, path + \"0.pt\")\n",
    "        torch.save(self.h1_layer, path + \"1.pt\")\n",
    "        torch.save(self.h2_layer, path + \"2.pt\")\n",
    "\n",
    "    def load_parameters(self, path: str):\n",
    "        self.in_layer = torch.load(path + \"0.pt\", weights_only=False)\n",
    "        self.h1_layer = torch.load(path + \"1.pt\", weights_only=False)\n",
    "        self.h2_layer = torch.load(path + \"2.pt\", weights_only=False)"
   ]
  },
  {
   "cell_type": "code",
   "execution_count": 9,
   "metadata": {},
   "outputs": [
    {
     "data": {
      "text/plain": [
       "Conv_Net(\n",
       "  (in_layer): Conv2d(1, 12, kernel_size=(5, 5), stride=(1, 1), bias=False)\n",
       "  (h1_layer): Conv2d(12, 64, kernel_size=(5, 5), stride=(1, 1), bias=False)\n",
       "  (h2_layer): Linear(in_features=1024, out_features=10, bias=False)\n",
       "  (pooling): AvgPool2d(kernel_size=2, stride=2, padding=0)\n",
       "  (dropout): Dropout(p=0.5, inplace=False)\n",
       "  (activator): ReLU()\n",
       ")"
      ]
     },
     "execution_count": 9,
     "metadata": {},
     "output_type": "execute_result"
    }
   ],
   "source": [
    "def init_weights(m):\n",
    "    if isinstance(m, torch.nn.Linear) or isinstance(m, torch.nn.Conv2d):\n",
    "        torch.nn.init.uniform_(m.weight, -0.1, 0.1)\n",
    "\n",
    "conv_net = Conv_Net(1, [12, 64], [1024, 10]).to(device)\n",
    "conv_net.apply(init_weights)\n",
    "optimiser = torch.optim.Adam(conv_net.parameters())\n",
    "\n",
    "# optimiser used in the original paper seems to kill the gradients, so we're just going to use adam\n",
    "# optimiser = torch.optim.SGD(conv_net.parameters(), lr=.01, momentum=0.5)\n",
    "\n",
    "conv_net.train()"
   ]
  },
  {
   "cell_type": "code",
   "execution_count": 10,
   "metadata": {},
   "outputs": [
    {
     "name": "stdout",
     "output_type": "stream",
     "text": [
      "Epoch [1/15], Step [100/600], Loss: 0.7449\n",
      "Epoch [1/15], Step [200/600], Loss: 0.5508\n",
      "Epoch [1/15], Step [300/600], Loss: 0.3478\n",
      "Epoch [1/15], Step [400/600], Loss: 0.3962\n",
      "Epoch [1/15], Step [500/600], Loss: 0.3962\n",
      "Epoch [1/15], Step [600/600], Loss: 0.1065\n",
      "Epoch [2/15], Step [100/600], Loss: 0.3321\n",
      "Epoch [2/15], Step [200/600], Loss: 0.1846\n",
      "Epoch [2/15], Step [300/600], Loss: 0.2293\n",
      "Epoch [2/15], Step [400/600], Loss: 0.2776\n",
      "Epoch [2/15], Step [500/600], Loss: 0.1158\n",
      "Epoch [2/15], Step [600/600], Loss: 0.1491\n",
      "Epoch [3/15], Step [100/600], Loss: 0.1828\n",
      "Epoch [3/15], Step [200/600], Loss: 0.1167\n",
      "Epoch [3/15], Step [300/600], Loss: 0.0789\n",
      "Epoch [3/15], Step [400/600], Loss: 0.1116\n",
      "Epoch [3/15], Step [500/600], Loss: 0.1525\n",
      "Epoch [3/15], Step [600/600], Loss: 0.1324\n",
      "Epoch [4/15], Step [100/600], Loss: 0.1401\n",
      "Epoch [4/15], Step [200/600], Loss: 0.0405\n",
      "Epoch [4/15], Step [300/600], Loss: 0.1163\n",
      "Epoch [4/15], Step [400/600], Loss: 0.2690\n",
      "Epoch [4/15], Step [500/600], Loss: 0.1170\n",
      "Epoch [4/15], Step [600/600], Loss: 0.1716\n",
      "Epoch [5/15], Step [100/600], Loss: 0.1867\n",
      "Epoch [5/15], Step [200/600], Loss: 0.1116\n",
      "Epoch [5/15], Step [300/600], Loss: 0.1107\n",
      "Epoch [5/15], Step [400/600], Loss: 0.0404\n",
      "Epoch [5/15], Step [500/600], Loss: 0.1123\n",
      "Epoch [5/15], Step [600/600], Loss: 0.0615\n",
      "Epoch [6/15], Step [100/600], Loss: 0.0732\n",
      "Epoch [6/15], Step [200/600], Loss: 0.1268\n",
      "Epoch [6/15], Step [300/600], Loss: 0.1041\n",
      "Epoch [6/15], Step [400/600], Loss: 0.0797\n",
      "Epoch [6/15], Step [500/600], Loss: 0.1861\n",
      "Epoch [6/15], Step [600/600], Loss: 0.1969\n",
      "Epoch [7/15], Step [100/600], Loss: 0.0909\n",
      "Epoch [7/15], Step [200/600], Loss: 0.0326\n",
      "Epoch [7/15], Step [300/600], Loss: 0.0586\n",
      "Epoch [7/15], Step [400/600], Loss: 0.0260\n",
      "Epoch [7/15], Step [500/600], Loss: 0.0626\n",
      "Epoch [7/15], Step [600/600], Loss: 0.0916\n",
      "Epoch [8/15], Step [100/600], Loss: 0.1668\n",
      "Epoch [8/15], Step [200/600], Loss: 0.0300\n",
      "Epoch [8/15], Step [300/600], Loss: 0.0782\n",
      "Epoch [8/15], Step [400/600], Loss: 0.1449\n",
      "Epoch [8/15], Step [500/600], Loss: 0.1828\n",
      "Epoch [8/15], Step [600/600], Loss: 0.1318\n",
      "Epoch [9/15], Step [100/600], Loss: 0.0428\n",
      "Epoch [9/15], Step [200/600], Loss: 0.0881\n",
      "Epoch [9/15], Step [300/600], Loss: 0.1076\n",
      "Epoch [9/15], Step [400/600], Loss: 0.0664\n",
      "Epoch [9/15], Step [500/600], Loss: 0.0674\n",
      "Epoch [9/15], Step [600/600], Loss: 0.0475\n",
      "Epoch [10/15], Step [100/600], Loss: 0.0873\n",
      "Epoch [10/15], Step [200/600], Loss: 0.0513\n",
      "Epoch [10/15], Step [300/600], Loss: 0.1293\n",
      "Epoch [10/15], Step [400/600], Loss: 0.1001\n",
      "Epoch [10/15], Step [500/600], Loss: 0.2240\n",
      "Epoch [10/15], Step [600/600], Loss: 0.0897\n",
      "Epoch [11/15], Step [100/600], Loss: 0.0229\n",
      "Epoch [11/15], Step [200/600], Loss: 0.0361\n",
      "Epoch [11/15], Step [300/600], Loss: 0.0608\n",
      "Epoch [11/15], Step [400/600], Loss: 0.0931\n",
      "Epoch [11/15], Step [500/600], Loss: 0.1019\n",
      "Epoch [11/15], Step [600/600], Loss: 0.0702\n",
      "Epoch [12/15], Step [100/600], Loss: 0.0786\n",
      "Epoch [12/15], Step [200/600], Loss: 0.0902\n",
      "Epoch [12/15], Step [300/600], Loss: 0.0412\n",
      "Epoch [12/15], Step [400/600], Loss: 0.0598\n",
      "Epoch [12/15], Step [500/600], Loss: 0.0750\n",
      "Epoch [12/15], Step [600/600], Loss: 0.2005\n",
      "Epoch [13/15], Step [100/600], Loss: 0.1142\n",
      "Epoch [13/15], Step [200/600], Loss: 0.1709\n",
      "Epoch [13/15], Step [300/600], Loss: 0.0678\n",
      "Epoch [13/15], Step [400/600], Loss: 0.1150\n",
      "Epoch [13/15], Step [500/600], Loss: 0.0961\n",
      "Epoch [13/15], Step [600/600], Loss: 0.0571\n",
      "Epoch [14/15], Step [100/600], Loss: 0.0853\n",
      "Epoch [14/15], Step [200/600], Loss: 0.0540\n",
      "Epoch [14/15], Step [300/600], Loss: 0.0606\n",
      "Epoch [14/15], Step [400/600], Loss: 0.1261\n",
      "Epoch [14/15], Step [500/600], Loss: 0.0513\n",
      "Epoch [14/15], Step [600/600], Loss: 0.1259\n",
      "Epoch [15/15], Step [100/600], Loss: 0.0381\n",
      "Epoch [15/15], Step [200/600], Loss: 0.0372\n",
      "Epoch [15/15], Step [300/600], Loss: 0.0313\n",
      "Epoch [15/15], Step [400/600], Loss: 0.0392\n",
      "Epoch [15/15], Step [500/600], Loss: 0.1050\n",
      "Epoch [15/15], Step [600/600], Loss: 0.0924\n"
     ]
    }
   ],
   "source": [
    "# Training model\n",
    "num_epochs = 15\n",
    "for epoch in range(num_epochs):\n",
    "    # Go trough all samples in train dataset\n",
    "    for i, (images, labels) in enumerate(train_loader):\n",
    "        # Get from dataloader and send to device\n",
    "        images = images.to(device)\n",
    "        labels = labels.to(device)\n",
    "        # Forward pass\n",
    "        outputs = conv_net(images)\n",
    "        # Compute loss\n",
    "        loss = torch.nn.functional.cross_entropy(outputs, labels)\n",
    "        # Backward and optimize\n",
    "        optimiser.zero_grad()\n",
    "        loss.backward()\n",
    "        optimiser.step()\n",
    "        # Display\n",
    "        if (i+1) % 100 == 0:\n",
    "            print (f'Epoch [{epoch+1}/{num_epochs}], Step [{i+1}/{len(train_loader)}], Loss: {loss.item():.4f}')"
   ]
  },
  {
   "cell_type": "code",
   "execution_count": 11,
   "metadata": {},
   "outputs": [
    {
     "name": "stdout",
     "output_type": "stream",
     "text": [
      "Evaluation after training, test accuracy: 0.9894\n"
     ]
    }
   ],
   "source": [
    "# Evaluate model accuracy on test after training\n",
    "# Set model in eval mode!\n",
    "conv_net.eval()\n",
    "# Evaluate\n",
    "with torch.no_grad():\n",
    "    correct = 0\n",
    "    total = 0\n",
    "    for images, labels in test_loader:\n",
    "        # Get images and labels from test loader\n",
    "        images = images.to(device)\n",
    "        labels = labels.to(device)\n",
    "        # Forward pass and predict class using max\n",
    "        outputs = conv_net(images)\n",
    "        _, predicted = torch.max(outputs.data, 1)\n",
    "        # Check if predicted class matches label\n",
    "        # and count number of correct predictions\n",
    "        total += labels.size(0)\n",
    "        correct += (predicted == labels).sum().item()\n",
    "# Compute final accuracy and display\n",
    "accuracy = correct/total\n",
    "print(f'Evaluation after training, test accuracy: {accuracy:.4f}')"
   ]
  },
  {
   "cell_type": "code",
   "execution_count": 12,
   "metadata": {},
   "outputs": [],
   "source": [
    "conv_net.save_parameters(\"params/conv\")"
   ]
  }
 ],
 "metadata": {
  "kernelspec": {
   "display_name": "bic_team",
   "language": "python",
   "name": "python3"
  },
  "language_info": {
   "codemirror_mode": {
    "name": "ipython",
    "version": 3
   },
   "file_extension": ".py",
   "mimetype": "text/x-python",
   "name": "python",
   "nbconvert_exporter": "python",
   "pygments_lexer": "ipython3",
   "version": "3.13.1"
  }
 },
 "nbformat": 4,
 "nbformat_minor": 2
}
